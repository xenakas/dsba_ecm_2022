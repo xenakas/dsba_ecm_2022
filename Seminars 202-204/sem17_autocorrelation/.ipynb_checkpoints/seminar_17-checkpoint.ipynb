{
 "cells": [
  {
   "cell_type": "code",
   "execution_count": null,
   "id": "4e322971",
   "metadata": {
    "ExecuteTime": {
     "end_time": "2022-02-01T06:25:55.305053Z",
     "start_time": "2022-02-01T06:25:55.239Z"
    }
   },
   "outputs": [],
   "source": [
    "library(hexView)\n",
    "\n",
    "data <- readEViews('EXPEND.WF1')"
   ]
  },
  {
   "cell_type": "code",
   "execution_count": null,
   "id": "fd172a71",
   "metadata": {
    "ExecuteTime": {
     "end_time": "2022-02-01T06:17:03.717156Z",
     "start_time": "2022-02-01T06:17:03.691Z"
    }
   },
   "outputs": [],
   "source": [
    "# c1 <- ts(data['CLOT'], frequency = 4, start=c(1990,1))\n",
    "# h1 <- ts(data['HOUS'], frequency = 4, start=c(1990,1))\n",
    "# d1 <- ts(data['DPI'], frequency = 4, start=c(1990,1))"
   ]
  },
  {
   "cell_type": "code",
   "execution_count": null,
   "id": "84383f0c",
   "metadata": {
    "ExecuteTime": {
     "end_time": "2022-02-01T06:17:04.130535Z",
     "start_time": "2022-02-01T06:17:04.095Z"
    }
   },
   "outputs": [],
   "source": [
    "mod1 <- lm(FOOD~PFOOD, data = data)"
   ]
  },
  {
   "cell_type": "code",
   "execution_count": null,
   "id": "cda03873",
   "metadata": {
    "ExecuteTime": {
     "end_time": "2022-02-01T06:17:04.509856Z",
     "start_time": "2022-02-01T06:17:04.458Z"
    }
   },
   "outputs": [],
   "source": [
    "summary(mod1)"
   ]
  },
  {
   "cell_type": "code",
   "execution_count": null,
   "id": "7963625c",
   "metadata": {
    "ExecuteTime": {
     "end_time": "2022-02-01T06:17:06.257688Z",
     "start_time": "2022-02-01T06:17:05.365Z"
    }
   },
   "outputs": [],
   "source": [
    "plot(mod1)"
   ]
  },
  {
   "cell_type": "code",
   "execution_count": null,
   "id": "44847fcf",
   "metadata": {
    "ExecuteTime": {
     "end_time": "2022-02-01T06:17:14.044277Z",
     "start_time": "2022-02-01T06:17:13.949Z"
    }
   },
   "outputs": [],
   "source": [
    "a1<-mod1$residuals[1:24]\n",
    "a2<-mod1$residuals[2:25]\n",
    "plot(a1,a2)"
   ]
  },
  {
   "cell_type": "code",
   "execution_count": null,
   "id": "bc012bc3",
   "metadata": {
    "ExecuteTime": {
     "end_time": "2022-02-01T06:17:18.399205Z",
     "start_time": "2022-02-01T06:17:16.315Z"
    }
   },
   "outputs": [],
   "source": [
    "library(forecast)"
   ]
  },
  {
   "cell_type": "code",
   "execution_count": null,
   "id": "c87568c8",
   "metadata": {
    "ExecuteTime": {
     "end_time": "2022-02-01T06:17:20.208374Z",
     "start_time": "2022-02-01T06:17:16.871Z"
    }
   },
   "outputs": [],
   "source": [
    "ggtsdisplay(mod1$residuals)"
   ]
  },
  {
   "cell_type": "code",
   "execution_count": null,
   "id": "e101ceb8",
   "metadata": {
    "ExecuteTime": {
     "end_time": "2022-02-01T06:17:21.601371Z",
     "start_time": "2022-02-01T06:17:17.192Z"
    }
   },
   "outputs": [],
   "source": [
    "mod1 <- lm(HOUS~DPI, data = data)\n",
    "ggtsdisplay(mod1$residuals)"
   ]
  },
  {
   "cell_type": "code",
   "execution_count": null,
   "id": "41faa8d2",
   "metadata": {
    "ExecuteTime": {
     "end_time": "2022-02-01T06:17:22.067035Z",
     "start_time": "2022-02-01T06:17:17.486Z"
    }
   },
   "outputs": [],
   "source": [
    "library(lmtest)"
   ]
  },
  {
   "cell_type": "code",
   "execution_count": null,
   "id": "5900887a",
   "metadata": {
    "ExecuteTime": {
     "end_time": "2022-02-01T06:17:23.424623Z",
     "start_time": "2022-02-01T06:17:17.730Z"
    }
   },
   "outputs": [],
   "source": [
    "mod1 <- lm(COSM~DPI, data = data)\n",
    "ggtsdisplay(mod1$residuals)"
   ]
  },
  {
   "cell_type": "code",
   "execution_count": null,
   "id": "291f9cf9",
   "metadata": {
    "ExecuteTime": {
     "end_time": "2022-02-01T06:17:23.826807Z",
     "start_time": "2022-02-01T06:17:17.952Z"
    }
   },
   "outputs": [],
   "source": [
    "summary(mod1)"
   ]
  },
  {
   "cell_type": "code",
   "execution_count": null,
   "id": "a34da015",
   "metadata": {
    "ExecuteTime": {
     "end_time": "2022-02-01T06:17:24.264097Z",
     "start_time": "2022-02-01T06:17:18.153Z"
    },
    "scrolled": true
   },
   "outputs": [],
   "source": [
    "dwtest(mod1)"
   ]
  },
  {
   "cell_type": "code",
   "execution_count": null,
   "id": "852541ed",
   "metadata": {
    "ExecuteTime": {
     "end_time": "2022-02-01T06:17:24.691845Z",
     "start_time": "2022-02-01T06:17:18.404Z"
    }
   },
   "outputs": [],
   "source": [
    "dwtest(mod1, alternative = 'two.sided')"
   ]
  },
  {
   "cell_type": "code",
   "execution_count": null,
   "id": "d6d79472",
   "metadata": {
    "ExecuteTime": {
     "end_time": "2022-02-01T06:17:25.118330Z",
     "start_time": "2022-02-01T06:17:18.669Z"
    }
   },
   "outputs": [],
   "source": [
    "dwtest(mod1, alternative = 'greater')"
   ]
  },
  {
   "cell_type": "code",
   "execution_count": null,
   "id": "49eff519",
   "metadata": {
    "ExecuteTime": {
     "end_time": "2022-02-01T06:30:12.584186Z",
     "start_time": "2022-02-01T06:30:12.537Z"
    }
   },
   "outputs": [],
   "source": [
    "data1 <- read.csv('eaef30.csv')"
   ]
  },
  {
   "cell_type": "code",
   "execution_count": null,
   "id": "7cf98b69",
   "metadata": {
    "ExecuteTime": {
     "end_time": "2022-02-01T06:31:02.662894Z",
     "start_time": "2022-02-01T06:31:02.618Z"
    }
   },
   "outputs": [],
   "source": [
    "mod2 <- lm(earn ~ asvabc, data = data1)\n",
    "summary(mod2)"
   ]
  },
  {
   "cell_type": "code",
   "execution_count": null,
   "id": "5e3b88ce",
   "metadata": {
    "ExecuteTime": {
     "end_time": "2022-02-01T06:31:24.269297Z",
     "start_time": "2022-02-01T06:31:24.228Z"
    }
   },
   "outputs": [],
   "source": [
    "dwtest(mod2, alternative = 'greater')"
   ]
  },
  {
   "cell_type": "code",
   "execution_count": null,
   "id": "192b3788",
   "metadata": {},
   "outputs": [],
   "source": []
  },
  {
   "cell_type": "code",
   "execution_count": null,
   "id": "4a092033",
   "metadata": {
    "ExecuteTime": {
     "end_time": "2022-02-01T07:09:29.674363Z",
     "start_time": "2022-02-01T07:09:29.641Z"
    }
   },
   "outputs": [],
   "source": [
    "c1 <- ts(data['COSM'], frequency = 4, start=c(1990,1))\n",
    "# h1 <- ts(data['HOUS'], frequency = 4, start=c(1990,1))\n",
    "d1 <- ts(data['DPI'], frequency = 4, start=c(1990,1))"
   ]
  },
  {
   "cell_type": "code",
   "execution_count": null,
   "id": "d38d11a3",
   "metadata": {
    "ExecuteTime": {
     "end_time": "2022-02-01T07:09:30.163927Z",
     "start_time": "2022-02-01T07:09:29.869Z"
    }
   },
   "outputs": [],
   "source": [
    "library('dynlm')"
   ]
  },
  {
   "cell_type": "code",
   "execution_count": null,
   "id": "336ec87d",
   "metadata": {
    "ExecuteTime": {
     "end_time": "2022-02-01T07:09:30.683100Z",
     "start_time": "2022-02-01T07:09:30.396Z"
    }
   },
   "outputs": [],
   "source": [
    "mod3 <- dynlm(c1~d1+L(c1))\n",
    "summary(mod3)"
   ]
  },
  {
   "cell_type": "code",
   "execution_count": null,
   "id": "dd6977a5",
   "metadata": {
    "ExecuteTime": {
     "end_time": "2022-02-01T06:45:48.348618Z",
     "start_time": "2022-02-01T06:45:48.309Z"
    }
   },
   "outputs": [],
   "source": [
    "dwtest(mod3, alternative = 'greater')"
   ]
  },
  {
   "cell_type": "code",
   "execution_count": null,
   "id": "277aba02",
   "metadata": {
    "ExecuteTime": {
     "end_time": "2022-02-01T06:40:12.896332Z",
     "start_time": "2022-02-01T06:40:12.874Z"
    }
   },
   "outputs": [],
   "source": [
    "# library(ecm)"
   ]
  },
  {
   "cell_type": "code",
   "execution_count": null,
   "id": "69e0ea6c",
   "metadata": {
    "ExecuteTime": {
     "end_time": "2022-02-01T06:46:30.240977Z",
     "start_time": "2022-02-01T06:46:30.219Z"
    }
   },
   "outputs": [],
   "source": [
    "# ddd <- durbinH(mod3, \"L(c1)\")"
   ]
  },
  {
   "cell_type": "code",
   "execution_count": null,
   "id": "447a6345",
   "metadata": {
    "ExecuteTime": {
     "end_time": "2022-02-01T06:46:31.143806Z",
     "start_time": "2022-02-01T06:46:31.127Z"
    }
   },
   "outputs": [],
   "source": [
    "# ddd"
   ]
  },
  {
   "cell_type": "code",
   "execution_count": null,
   "id": "04ef877c",
   "metadata": {
    "ExecuteTime": {
     "end_time": "2022-02-01T06:46:53.612127Z",
     "start_time": "2022-02-01T06:46:53.595Z"
    }
   },
   "outputs": [],
   "source": [
    "test <- dwtest(mod3, alternative = 'greater')"
   ]
  },
  {
   "cell_type": "code",
   "execution_count": null,
   "id": "09aa79ef",
   "metadata": {
    "ExecuteTime": {
     "end_time": "2022-02-01T06:49:30.983220Z",
     "start_time": "2022-02-01T06:49:30.967Z"
    }
   },
   "outputs": [],
   "source": [
    "# mod3$model\n",
    "sel <- summary(mod3)$coefficients[3,2]"
   ]
  },
  {
   "cell_type": "code",
   "execution_count": null,
   "id": "f24b3075",
   "metadata": {
    "ExecuteTime": {
     "end_time": "2022-02-01T06:49:37.981024Z",
     "start_time": "2022-02-01T06:49:37.963Z"
    }
   },
   "outputs": [],
   "source": [
    "(1-0.5*test$statistic)*sqrt(24/(1-24*sel^2))"
   ]
  },
  {
   "cell_type": "code",
   "execution_count": null,
   "id": "e1c60a0b",
   "metadata": {},
   "outputs": [],
   "source": []
  },
  {
   "cell_type": "code",
   "execution_count": null,
   "id": "d2efde9f",
   "metadata": {
    "ExecuteTime": {
     "end_time": "2022-02-01T07:09:55.146844Z",
     "start_time": "2022-02-01T07:09:55.114Z"
    }
   },
   "outputs": [],
   "source": [
    "c1 <- ts(data['COSM'], frequency = 4, start=c(1990,1))\n",
    "p1 <- ts(data['PCOSM'], frequency = 4, start=c(1990,1))\n",
    "d1 <- ts(data['DPI'], frequency = 4, start=c(1990,1))\n",
    "\n",
    "mod3 <- dynlm(c1~d1+p1+L(c1))\n",
    "summary(mod3)"
   ]
  },
  {
   "cell_type": "code",
   "execution_count": null,
   "id": "aba349e3",
   "metadata": {
    "ExecuteTime": {
     "end_time": "2022-02-01T07:09:59.013997Z",
     "start_time": "2022-02-01T07:09:58.982Z"
    }
   },
   "outputs": [],
   "source": [
    "dwtest(mod3, alternative = 'greater')"
   ]
  },
  {
   "cell_type": "code",
   "execution_count": null,
   "id": "39838f27",
   "metadata": {
    "ExecuteTime": {
     "end_time": "2022-02-01T07:09:59.512550Z",
     "start_time": "2022-02-01T07:09:59.159Z"
    }
   },
   "outputs": [],
   "source": [
    "library(ecm)\n",
    "durbinH(mod3, \"L(c1)\")"
   ]
  },
  {
   "cell_type": "code",
   "execution_count": null,
   "id": "4aba7e6b",
   "metadata": {
    "ExecuteTime": {
     "end_time": "2022-02-01T07:09:59.991231Z",
     "start_time": "2022-02-01T07:09:59.535Z"
    }
   },
   "outputs": [],
   "source": [
    "test <- dwtest(mod3, alternative = 'greater')\n",
    "\n",
    "# mod3$model\n",
    "sel <- summary(mod3)$coefficients[4,2]\n",
    "\n",
    "(1-0.5*test$statistic)*sqrt(24/(1-24*sel^2))"
   ]
  },
  {
   "cell_type": "code",
   "execution_count": null,
   "id": "b1be33fd",
   "metadata": {
    "ExecuteTime": {
     "end_time": "2022-02-01T07:10:00.489353Z",
     "start_time": "2022-02-01T07:09:59.724Z"
    }
   },
   "outputs": [],
   "source": [
    "bgtest(mod3)"
   ]
  },
  {
   "cell_type": "code",
   "execution_count": null,
   "id": "35b3fbef",
   "metadata": {},
   "outputs": [],
   "source": []
  },
  {
   "cell_type": "code",
   "execution_count": null,
   "id": "62b48d60",
   "metadata": {
    "ExecuteTime": {
     "end_time": "2022-02-01T07:11:07.977000Z",
     "start_time": "2022-02-01T07:11:07.943Z"
    }
   },
   "outputs": [],
   "source": [
    "mod3 <- dynlm(c1~d1+L(c1))\n",
    "summary(mod3)\n",
    "\n",
    "dwtest(mod3, alternative = 'greater')"
   ]
  },
  {
   "cell_type": "code",
   "execution_count": null,
   "id": "c73f1d55",
   "metadata": {
    "ExecuteTime": {
     "end_time": "2022-02-01T07:11:18.312882Z",
     "start_time": "2022-02-01T07:11:18.285Z"
    }
   },
   "outputs": [],
   "source": [
    "library(ecm)\n",
    "ddd <- durbinH(mod3, \"L(c1)\")\n",
    "ddd"
   ]
  },
  {
   "cell_type": "code",
   "execution_count": null,
   "id": "d7a1ffd1",
   "metadata": {
    "ExecuteTime": {
     "end_time": "2022-02-01T07:11:33.193382Z",
     "start_time": "2022-02-01T07:11:33.169Z"
    }
   },
   "outputs": [],
   "source": [
    "res <- mod3$residuals"
   ]
  },
  {
   "cell_type": "code",
   "execution_count": null,
   "id": "9ca003d0",
   "metadata": {
    "ExecuteTime": {
     "end_time": "2022-02-01T07:11:49.552449Z",
     "start_time": "2022-02-01T07:11:49.525Z"
    }
   },
   "outputs": [],
   "source": [
    "# mod4 <- dynlm(res~d1+p1+L(c1)+L(res))\n",
    "mod4 <- dynlm(res~d1+L(c1)+L(res))\n",
    "summary(mod4)"
   ]
  },
  {
   "cell_type": "code",
   "execution_count": null,
   "id": "1491d45f",
   "metadata": {
    "ExecuteTime": {
     "end_time": "2022-02-01T07:12:48.758587Z",
     "start_time": "2022-02-01T07:12:48.742Z"
    }
   },
   "outputs": [],
   "source": [
    "23*summary(mod4)$r.squared"
   ]
  },
  {
   "cell_type": "code",
   "execution_count": null,
   "id": "fdabbb6a",
   "metadata": {
    "ExecuteTime": {
     "end_time": "2022-02-01T07:13:37.091004Z",
     "start_time": "2022-02-01T07:13:37.079Z"
    }
   },
   "outputs": [],
   "source": [
    "qchisq(0.95,1)"
   ]
  },
  {
   "cell_type": "code",
   "execution_count": null,
   "id": "fc9ba08b",
   "metadata": {
    "ExecuteTime": {
     "end_time": "2022-02-01T07:16:15.491263Z",
     "start_time": "2022-02-01T07:16:15.454Z"
    }
   },
   "outputs": [],
   "source": [
    "bgtest(mod3)"
   ]
  },
  {
   "cell_type": "markdown",
   "id": "b5ac9b85",
   "metadata": {
    "ExecuteTime": {
     "end_time": "2022-02-01T07:16:45.113886Z",
     "start_time": "2022-02-01T07:16:45.100Z"
    }
   },
   "source": [
    "One can notice that the results are slightly different from manual version as EViews adds zeros instead of missing data caused by lagging to prevent losing of degrees of freedom"
   ]
  },
  {
   "cell_type": "code",
   "execution_count": null,
   "id": "b7188e7d",
   "metadata": {
    "ExecuteTime": {
     "end_time": "2022-02-01T07:34:01.723092Z",
     "start_time": "2022-02-01T07:34:01.597Z"
    }
   },
   "outputs": [],
   "source": [
    "# mod4 <- dynlm(res~d1+p1+L(c1)+L(res))\n",
    "mod4 <- dynlm(res~d1+L(c1)+L(res)+L(res,2))\n",
    "summary(mod4)\n",
    "\n",
    "22*summary(mod4)$r.squared\n",
    "\n",
    "qchisq(0.95,2)"
   ]
  },
  {
   "cell_type": "code",
   "execution_count": null,
   "id": "470affc7",
   "metadata": {
    "ExecuteTime": {
     "end_time": "2022-02-01T07:33:44.662455Z",
     "start_time": "2022-02-01T07:33:44.610Z"
    }
   },
   "outputs": [],
   "source": [
    "bgtest(mod3, order = 2)"
   ]
  },
  {
   "cell_type": "code",
   "execution_count": null,
   "id": "5565a421",
   "metadata": {
    "ExecuteTime": {
     "end_time": "2022-02-01T07:40:33.235901Z",
     "start_time": "2022-02-01T07:40:33.158Z"
    }
   },
   "outputs": [],
   "source": [
    "library(car)"
   ]
  },
  {
   "cell_type": "code",
   "execution_count": null,
   "id": "2ef948c7",
   "metadata": {
    "ExecuteTime": {
     "end_time": "2022-02-01T07:41:01.619414Z",
     "start_time": "2022-02-01T07:41:01.551Z"
    }
   },
   "outputs": [],
   "source": [
    "linearHypothesis(mod4, c(\"L(res)=0\", \"L(res, 2)=0\"))"
   ]
  }
 ],
 "metadata": {
  "hide_input": false,
  "kernelspec": {
   "display_name": "R 4.2",
   "language": "R",
   "name": "ir42"
  },
  "language_info": {
   "codemirror_mode": "r",
   "file_extension": ".r",
   "mimetype": "text/x-r-source",
   "name": "R",
   "pygments_lexer": "r",
   "version": "4.2.1"
  },
  "latex_envs": {
   "LaTeX_envs_menu_present": true,
   "autoclose": true,
   "autocomplete": true,
   "bibliofile": "biblio.bib",
   "cite_by": "apalike",
   "current_citInitial": 1,
   "eqLabelWithNumbers": true,
   "eqNumInitial": 1,
   "hotkeys": {
    "equation": "Ctrl-E",
    "itemize": "Ctrl-I"
   },
   "labels_anchors": false,
   "latex_user_defs": false,
   "report_style_numbering": false,
   "user_envs_cfg": false
  },
  "toc": {
   "base_numbering": 1,
   "nav_menu": {},
   "number_sections": true,
   "sideBar": true,
   "skip_h1_title": false,
   "title_cell": "Table of Contents",
   "title_sidebar": "Contents",
   "toc_cell": false,
   "toc_position": {},
   "toc_section_display": true,
   "toc_window_display": false
  },
  "varInspector": {
   "cols": {
    "lenName": 16,
    "lenType": 16,
    "lenVar": 40
   },
   "kernels_config": {
    "python": {
     "delete_cmd_postfix": "",
     "delete_cmd_prefix": "del ",
     "library": "var_list.py",
     "varRefreshCmd": "print(var_dic_list())"
    },
    "r": {
     "delete_cmd_postfix": ") ",
     "delete_cmd_prefix": "rm(",
     "library": "var_list.r",
     "varRefreshCmd": "cat(var_dic_list()) "
    }
   },
   "types_to_exclude": [
    "module",
    "function",
    "builtin_function_or_method",
    "instance",
    "_Feature"
   ],
   "window_display": false
  }
 },
 "nbformat": 4,
 "nbformat_minor": 5
}
