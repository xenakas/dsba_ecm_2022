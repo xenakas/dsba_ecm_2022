{
 "cells": [
  {
   "cell_type": "markdown",
   "id": "c922b840",
   "metadata": {},
   "source": [
    "## Part 1"
   ]
  },
  {
   "cell_type": "code",
   "execution_count": 1,
   "id": "4e322971",
   "metadata": {
    "ExecuteTime": {
     "end_time": "2022-02-08T03:22:54.434211Z",
     "start_time": "2022-02-08T03:22:54.360Z"
    }
   },
   "outputs": [
    {
     "name": "stderr",
     "output_type": "stream",
     "text": [
      "Warning message in readEViews(\"EXPEND.WF1\"):\n",
      "“Skipping boilerplate variable\n",
      "”\n",
      "Warning message in readEViews(\"EXPEND.WF1\"):\n",
      "“Skipping boilerplate variable\n",
      "”\n"
     ]
    }
   ],
   "source": [
    "library(hexView)\n",
    "\n",
    "data <- readEViews('EXPEND.WF1')"
   ]
  },
  {
   "cell_type": "code",
   "execution_count": null,
   "id": "fd172a71",
   "metadata": {
    "ExecuteTime": {
     "end_time": "2022-02-01T06:17:03.717156Z",
     "start_time": "2022-02-01T06:17:03.691Z"
    }
   },
   "outputs": [],
   "source": [
    "# c1 <- ts(data['CLOT'], frequency = 4, start=c(1990,1))\n",
    "# h1 <- ts(data['HOUS'], frequency = 4, start=c(1990,1))\n",
    "# d1 <- ts(data['DPI'], frequency = 4, start=c(1990,1))"
   ]
  },
  {
   "cell_type": "code",
   "execution_count": 2,
   "id": "4a092033",
   "metadata": {
    "ExecuteTime": {
     "end_time": "2022-02-08T03:23:25.852259Z",
     "start_time": "2022-02-08T03:23:25.833Z"
    }
   },
   "outputs": [],
   "source": [
    "c1 <- ts(data['COSM'], frequency = 4, start=c(1990,1))\n",
    "# h1 <- ts(data['HOUS'], frequency = 4, start=c(1990,1))\n",
    "d1 <- ts(data['DPI'], frequency = 4, start=c(1990,1))"
   ]
  },
  {
   "cell_type": "code",
   "execution_count": 3,
   "id": "d38d11a3",
   "metadata": {
    "ExecuteTime": {
     "end_time": "2022-02-08T03:23:27.026499Z",
     "start_time": "2022-02-08T03:23:26.582Z"
    }
   },
   "outputs": [
    {
     "name": "stderr",
     "output_type": "stream",
     "text": [
      "Loading required package: zoo\n",
      "\n",
      "\n",
      "Attaching package: ‘zoo’\n",
      "\n",
      "\n",
      "The following objects are masked from ‘package:base’:\n",
      "\n",
      "    as.Date, as.Date.numeric\n",
      "\n",
      "\n"
     ]
    }
   ],
   "source": [
    "library('dynlm')"
   ]
  },
  {
   "cell_type": "code",
   "execution_count": 4,
   "id": "336ec87d",
   "metadata": {
    "ExecuteTime": {
     "end_time": "2022-02-08T03:23:29.022593Z",
     "start_time": "2022-02-08T03:23:28.966Z"
    }
   },
   "outputs": [
    {
     "data": {
      "text/plain": [
       "\n",
       "Time series regression with \"ts\" data:\n",
       "Start = 1990(2), End = 1996(1)\n",
       "\n",
       "Call:\n",
       "dynlm(formula = c1 ~ d1 + L(c1))\n",
       "\n",
       "Residuals:\n",
       "     Min       1Q   Median       3Q      Max \n",
       "-0.49449 -0.10634 -0.04083  0.14355  0.37037 \n",
       "\n",
       "Coefficients:\n",
       "             Estimate Std. Error t value Pr(>|t|)    \n",
       "(Intercept) 7.748e-01  1.764e-01   4.393 0.000254 ***\n",
       "d1          7.199e-06  7.189e-04   0.010 0.992105    \n",
       "L(c1)       9.120e-01  8.242e-02  11.064  3.2e-10 ***\n",
       "---\n",
       "Signif. codes:  0 ‘***’ 0.001 ‘**’ 0.01 ‘*’ 0.05 ‘.’ 0.1 ‘ ’ 1\n",
       "\n",
       "Residual standard error: 0.2002 on 21 degrees of freedom\n",
       "Multiple R-squared:  0.9847,\tAdjusted R-squared:  0.9833 \n",
       "F-statistic: 677.7 on 2 and 21 DF,  p-value: < 2.2e-16\n"
      ]
     },
     "metadata": {},
     "output_type": "display_data"
    }
   ],
   "source": [
    "mod3 <- dynlm(c1~d1+L(c1))\n",
    "summary(mod3)"
   ]
  },
  {
   "cell_type": "code",
   "execution_count": 6,
   "id": "2e40267e",
   "metadata": {
    "ExecuteTime": {
     "end_time": "2022-02-08T03:23:38.562120Z",
     "start_time": "2022-02-08T03:23:38.548Z"
    }
   },
   "outputs": [],
   "source": [
    "library(lmtest)"
   ]
  },
  {
   "cell_type": "code",
   "execution_count": 7,
   "id": "dd6977a5",
   "metadata": {
    "ExecuteTime": {
     "end_time": "2022-02-08T03:23:39.992059Z",
     "start_time": "2022-02-08T03:23:39.966Z"
    }
   },
   "outputs": [
    {
     "data": {
      "text/plain": [
       "\n",
       "\tDurbin-Watson test\n",
       "\n",
       "data:  mod3\n",
       "DW = 1.3042, p-value = 0.01148\n",
       "alternative hypothesis: true autocorrelation is greater than 0\n"
      ]
     },
     "metadata": {},
     "output_type": "display_data"
    }
   ],
   "source": [
    "dwtest(mod3, alternative = 'greater')"
   ]
  },
  {
   "cell_type": "code",
   "execution_count": 12,
   "id": "d2efde9f",
   "metadata": {
    "ExecuteTime": {
     "end_time": "2022-02-08T03:24:23.857252Z",
     "start_time": "2022-02-08T03:24:23.817Z"
    }
   },
   "outputs": [
    {
     "data": {
      "text/plain": [
       "\n",
       "Time series regression with \"ts\" data:\n",
       "Start = 1990(2), End = 1996(1)\n",
       "\n",
       "Call:\n",
       "dynlm(formula = c1 ~ d1 + p1 + L(c1))\n",
       "\n",
       "Residuals:\n",
       "     Min       1Q   Median       3Q      Max \n",
       "-0.35435 -0.06709  0.01297  0.06597  0.20227 \n",
       "\n",
       "Coefficients:\n",
       "             Estimate Std. Error t value Pr(>|t|)    \n",
       "(Intercept)  0.185352   0.153791   1.205    0.242    \n",
       "d1           0.006344   0.001217   5.213 4.22e-05 ***\n",
       "p1          -0.013429   0.002389  -5.622 1.67e-05 ***\n",
       "L(c1)        0.478973   0.093255   5.136 5.03e-05 ***\n",
       "---\n",
       "Signif. codes:  0 ‘***’ 0.001 ‘**’ 0.01 ‘*’ 0.05 ‘.’ 0.1 ‘ ’ 1\n",
       "\n",
       "Residual standard error: 0.1277 on 20 degrees of freedom\n",
       "Multiple R-squared:  0.9941,\tAdjusted R-squared:  0.9932 \n",
       "F-statistic:  1121 on 3 and 20 DF,  p-value: < 2.2e-16\n"
      ]
     },
     "metadata": {},
     "output_type": "display_data"
    }
   ],
   "source": [
    "c1 <- ts(data['COSM'], frequency = 4, start=c(1990,1))\n",
    "p1 <- ts(data['PCOSM'], frequency = 4, start=c(1990,1))\n",
    "d1 <- ts(data['DPI'], frequency = 4, start=c(1990,1))\n",
    "\n",
    "mod3 <- dynlm(c1~d1+p1+L(c1))\n",
    "summary(mod3)"
   ]
  },
  {
   "cell_type": "code",
   "execution_count": 13,
   "id": "4dceea66",
   "metadata": {
    "ExecuteTime": {
     "end_time": "2022-02-08T03:24:26.414423Z",
     "start_time": "2022-02-08T03:24:26.398Z"
    }
   },
   "outputs": [
    {
     "data": {
      "text/plain": [
       "\n",
       "\tBreusch-Godfrey test for serial correlation of order up to 1\n",
       "\n",
       "data:  mod3\n",
       "LM test = 9.3569, df = 1, p-value = 0.002222\n"
      ]
     },
     "metadata": {},
     "output_type": "display_data"
    }
   ],
   "source": [
    "bgtest(mod3)"
   ]
  },
  {
   "cell_type": "code",
   "execution_count": 14,
   "id": "62b48d60",
   "metadata": {
    "ExecuteTime": {
     "end_time": "2022-02-08T03:24:26.943891Z",
     "start_time": "2022-02-08T03:24:26.886Z"
    }
   },
   "outputs": [
    {
     "data": {
      "text/plain": [
       "\n",
       "Time series regression with \"ts\" data:\n",
       "Start = 1990(2), End = 1996(1)\n",
       "\n",
       "Call:\n",
       "dynlm(formula = c1 ~ d1 + L(c1))\n",
       "\n",
       "Residuals:\n",
       "     Min       1Q   Median       3Q      Max \n",
       "-0.49449 -0.10634 -0.04083  0.14355  0.37037 \n",
       "\n",
       "Coefficients:\n",
       "             Estimate Std. Error t value Pr(>|t|)    \n",
       "(Intercept) 7.748e-01  1.764e-01   4.393 0.000254 ***\n",
       "d1          7.199e-06  7.189e-04   0.010 0.992105    \n",
       "L(c1)       9.120e-01  8.242e-02  11.064  3.2e-10 ***\n",
       "---\n",
       "Signif. codes:  0 ‘***’ 0.001 ‘**’ 0.01 ‘*’ 0.05 ‘.’ 0.1 ‘ ’ 1\n",
       "\n",
       "Residual standard error: 0.2002 on 21 degrees of freedom\n",
       "Multiple R-squared:  0.9847,\tAdjusted R-squared:  0.9833 \n",
       "F-statistic: 677.7 on 2 and 21 DF,  p-value: < 2.2e-16\n"
      ]
     },
     "metadata": {},
     "output_type": "display_data"
    },
    {
     "data": {
      "text/plain": [
       "\n",
       "\tDurbin-Watson test\n",
       "\n",
       "data:  mod3\n",
       "DW = 1.3042, p-value = 0.01148\n",
       "alternative hypothesis: true autocorrelation is greater than 0\n"
      ]
     },
     "metadata": {},
     "output_type": "display_data"
    }
   ],
   "source": [
    "mod3 <- dynlm(c1~d1+L(c1))\n",
    "summary(mod3)\n",
    "\n",
    "dwtest(mod3, alternative = 'greater')"
   ]
  },
  {
   "cell_type": "code",
   "execution_count": 15,
   "id": "c73f1d55",
   "metadata": {
    "ExecuteTime": {
     "end_time": "2022-02-08T03:24:37.092389Z",
     "start_time": "2022-02-08T03:24:37.054Z"
    }
   },
   "outputs": [
    {
     "data": {
      "text/html": [
       "1.90926959535909"
      ],
      "text/latex": [
       "1.90926959535909"
      ],
      "text/markdown": [
       "1.90926959535909"
      ],
      "text/plain": [
       "[1] 1.90927"
      ]
     },
     "metadata": {},
     "output_type": "display_data"
    }
   ],
   "source": [
    "library(ecm)\n",
    "ddd <- durbinH(mod3, \"L(c1)\")\n",
    "ddd"
   ]
  },
  {
   "cell_type": "code",
   "execution_count": 16,
   "id": "d7a1ffd1",
   "metadata": {
    "ExecuteTime": {
     "end_time": "2022-02-08T03:24:37.752648Z",
     "start_time": "2022-02-08T03:24:37.721Z"
    }
   },
   "outputs": [],
   "source": [
    "res <- mod3$residuals"
   ]
  },
  {
   "cell_type": "code",
   "execution_count": 17,
   "id": "9ca003d0",
   "metadata": {
    "ExecuteTime": {
     "end_time": "2022-02-08T03:24:39.377079Z",
     "start_time": "2022-02-08T03:24:39.344Z"
    }
   },
   "outputs": [
    {
     "data": {
      "text/plain": [
       "\n",
       "Time series regression with \"ts\" data:\n",
       "Start = 1990(3), End = 1996(1)\n",
       "\n",
       "Call:\n",
       "dynlm(formula = res ~ d1 + L(c1) + L(res))\n",
       "\n",
       "Residuals:\n",
       "     Min       1Q   Median       3Q      Max \n",
       "-0.35445 -0.10765  0.02053  0.13031  0.33364 \n",
       "\n",
       "Coefficients:\n",
       "              Estimate Std. Error t value Pr(>|t|)  \n",
       "(Intercept)  0.0669627  0.1822342   0.367   0.7173  \n",
       "d1           0.0007258  0.0007788   0.932   0.3631  \n",
       "L(c1)       -0.0975495  0.0941527  -1.036   0.3132  \n",
       "L(res)       0.4406496  0.2299304   1.916   0.0705 .\n",
       "---\n",
       "Signif. codes:  0 ‘***’ 0.001 ‘**’ 0.01 ‘*’ 0.05 ‘.’ 0.1 ‘ ’ 1\n",
       "\n",
       "Residual standard error: 0.1909 on 19 degrees of freedom\n",
       "Multiple R-squared:  0.1659,\tAdjusted R-squared:  0.03417 \n",
       "F-statistic: 1.259 on 3 and 19 DF,  p-value: 0.3165\n"
      ]
     },
     "metadata": {},
     "output_type": "display_data"
    }
   ],
   "source": [
    "# mod4 <- dynlm(res~d1+p1+L(c1)+L(res))\n",
    "mod4 <- dynlm(res~d1+L(c1)+L(res))\n",
    "summary(mod4)"
   ]
  },
  {
   "cell_type": "code",
   "execution_count": 18,
   "id": "1491d45f",
   "metadata": {
    "ExecuteTime": {
     "end_time": "2022-02-08T03:24:41.650381Z",
     "start_time": "2022-02-08T03:24:41.639Z"
    }
   },
   "outputs": [
    {
     "data": {
      "text/html": [
       "3.81500753177683"
      ],
      "text/latex": [
       "3.81500753177683"
      ],
      "text/markdown": [
       "3.81500753177683"
      ],
      "text/plain": [
       "[1] 3.815008"
      ]
     },
     "metadata": {},
     "output_type": "display_data"
    }
   ],
   "source": [
    "23*summary(mod4)$r.squared"
   ]
  },
  {
   "cell_type": "code",
   "execution_count": 19,
   "id": "fdabbb6a",
   "metadata": {
    "ExecuteTime": {
     "end_time": "2022-02-08T03:24:42.479980Z",
     "start_time": "2022-02-08T03:24:42.460Z"
    }
   },
   "outputs": [
    {
     "data": {
      "text/html": [
       "3.84145882069412"
      ],
      "text/latex": [
       "3.84145882069412"
      ],
      "text/markdown": [
       "3.84145882069412"
      ],
      "text/plain": [
       "[1] 3.841459"
      ]
     },
     "metadata": {},
     "output_type": "display_data"
    }
   ],
   "source": [
    "qchisq(0.95,1)"
   ]
  },
  {
   "cell_type": "code",
   "execution_count": 20,
   "id": "fc9ba08b",
   "metadata": {
    "ExecuteTime": {
     "end_time": "2022-02-08T03:24:44.009530Z",
     "start_time": "2022-02-08T03:24:43.995Z"
    }
   },
   "outputs": [
    {
     "data": {
      "text/plain": [
       "\n",
       "\tBreusch-Godfrey test for serial correlation of order up to 1\n",
       "\n",
       "data:  mod3\n",
       "LM test = 3.2477, df = 1, p-value = 0.07152\n"
      ]
     },
     "metadata": {},
     "output_type": "display_data"
    }
   ],
   "source": [
    "bgtest(mod3)"
   ]
  },
  {
   "cell_type": "markdown",
   "id": "b5ac9b85",
   "metadata": {
    "ExecuteTime": {
     "end_time": "2022-02-01T07:16:45.113886Z",
     "start_time": "2022-02-01T07:16:45.100Z"
    }
   },
   "source": [
    "One can notice that the results are slightly different from manual version as EViews adds zeros instead of missing data caused by lagging to prevent losing of degrees of freedom"
   ]
  },
  {
   "cell_type": "code",
   "execution_count": 21,
   "id": "b7188e7d",
   "metadata": {
    "ExecuteTime": {
     "end_time": "2022-02-08T03:24:46.065986Z",
     "start_time": "2022-02-08T03:24:46.009Z"
    }
   },
   "outputs": [
    {
     "data": {
      "text/plain": [
       "\n",
       "Time series regression with \"ts\" data:\n",
       "Start = 1990(4), End = 1996(1)\n",
       "\n",
       "Call:\n",
       "dynlm(formula = res ~ d1 + L(c1) + L(res) + L(res, 2))\n",
       "\n",
       "Residuals:\n",
       "     Min       1Q   Median       3Q      Max \n",
       "-0.30555 -0.11595  0.04154  0.12391  0.26661 \n",
       "\n",
       "Coefficients:\n",
       "              Estimate Std. Error t value Pr(>|t|)  \n",
       "(Intercept)  0.0465526  0.1993914   0.233   0.8182  \n",
       "d1           0.0002280  0.0008401   0.271   0.7893  \n",
       "L(c1)       -0.0328164  0.1077596  -0.305   0.7644  \n",
       "L(res)       0.5101698  0.2224130   2.294   0.0348 *\n",
       "L(res, 2)   -0.4530141  0.2493108  -1.817   0.0869 .\n",
       "---\n",
       "Signif. codes:  0 ‘***’ 0.001 ‘**’ 0.01 ‘*’ 0.05 ‘.’ 0.1 ‘ ’ 1\n",
       "\n",
       "Residual standard error: 0.1822 on 17 degrees of freedom\n",
       "Multiple R-squared:  0.3151,\tAdjusted R-squared:  0.154 \n",
       "F-statistic: 1.955 on 4 and 17 DF,  p-value: 0.1474\n"
      ]
     },
     "metadata": {},
     "output_type": "display_data"
    },
    {
     "data": {
      "text/html": [
       "6.93270517080653"
      ],
      "text/latex": [
       "6.93270517080653"
      ],
      "text/markdown": [
       "6.93270517080653"
      ],
      "text/plain": [
       "[1] 6.932705"
      ]
     },
     "metadata": {},
     "output_type": "display_data"
    },
    {
     "data": {
      "text/html": [
       "5.99146454710798"
      ],
      "text/latex": [
       "5.99146454710798"
      ],
      "text/markdown": [
       "5.99146454710798"
      ],
      "text/plain": [
       "[1] 5.991465"
      ]
     },
     "metadata": {},
     "output_type": "display_data"
    }
   ],
   "source": [
    "# mod4 <- dynlm(res~d1+p1+L(c1)+L(res))\n",
    "mod4 <- dynlm(res~d1+L(c1)+L(res)+L(res,2))\n",
    "summary(mod4)\n",
    "\n",
    "22*summary(mod4)$r.squared\n",
    "\n",
    "qchisq(0.95,2)"
   ]
  },
  {
   "cell_type": "code",
   "execution_count": 22,
   "id": "470affc7",
   "metadata": {
    "ExecuteTime": {
     "end_time": "2022-02-08T03:24:47.432549Z",
     "start_time": "2022-02-08T03:24:47.416Z"
    }
   },
   "outputs": [
    {
     "data": {
      "text/plain": [
       "\n",
       "\tBreusch-Godfrey test for serial correlation of order up to 2\n",
       "\n",
       "data:  mod3\n",
       "LM test = 7.4641, df = 2, p-value = 0.02394\n"
      ]
     },
     "metadata": {},
     "output_type": "display_data"
    }
   ],
   "source": [
    "bgtest(mod3, order = 2)"
   ]
  },
  {
   "cell_type": "code",
   "execution_count": 23,
   "id": "5565a421",
   "metadata": {
    "ExecuteTime": {
     "end_time": "2022-02-08T03:24:47.927664Z",
     "start_time": "2022-02-08T03:24:47.884Z"
    }
   },
   "outputs": [
    {
     "name": "stderr",
     "output_type": "stream",
     "text": [
      "Loading required package: carData\n",
      "\n"
     ]
    }
   ],
   "source": [
    "library(car)"
   ]
  },
  {
   "cell_type": "code",
   "execution_count": 24,
   "id": "2ef948c7",
   "metadata": {
    "ExecuteTime": {
     "end_time": "2022-02-08T03:24:48.522369Z",
     "start_time": "2022-02-08T03:24:48.476Z"
    }
   },
   "outputs": [
    {
     "data": {
      "text/html": [
       "<table>\n",
       "<caption>A anova: 2 × 6</caption>\n",
       "<thead>\n",
       "\t<tr><th></th><th scope=col>Res.Df</th><th scope=col>RSS</th><th scope=col>Df</th><th scope=col>Sum of Sq</th><th scope=col>F</th><th scope=col>Pr(&gt;F)</th></tr>\n",
       "\t<tr><th></th><th scope=col>&lt;dbl&gt;</th><th scope=col>&lt;dbl&gt;</th><th scope=col>&lt;dbl&gt;</th><th scope=col>&lt;dbl&gt;</th><th scope=col>&lt;dbl&gt;</th><th scope=col>&lt;dbl&gt;</th></tr>\n",
       "</thead>\n",
       "<tbody>\n",
       "\t<tr><th scope=row>1</th><td>19</td><td>0.8114153</td><td>NA</td><td>       NA</td><td>      NA</td><td>        NA</td></tr>\n",
       "\t<tr><th scope=row>2</th><td>17</td><td>0.5646407</td><td> 2</td><td>0.2467746</td><td>3.714901</td><td>0.04586657</td></tr>\n",
       "</tbody>\n",
       "</table>\n"
      ],
      "text/latex": [
       "A anova: 2 × 6\n",
       "\\begin{tabular}{r|llllll}\n",
       "  & Res.Df & RSS & Df & Sum of Sq & F & Pr(>F)\\\\\n",
       "  & <dbl> & <dbl> & <dbl> & <dbl> & <dbl> & <dbl>\\\\\n",
       "\\hline\n",
       "\t1 & 19 & 0.8114153 & NA &        NA &       NA &         NA\\\\\n",
       "\t2 & 17 & 0.5646407 &  2 & 0.2467746 & 3.714901 & 0.04586657\\\\\n",
       "\\end{tabular}\n"
      ],
      "text/markdown": [
       "\n",
       "A anova: 2 × 6\n",
       "\n",
       "| <!--/--> | Res.Df &lt;dbl&gt; | RSS &lt;dbl&gt; | Df &lt;dbl&gt; | Sum of Sq &lt;dbl&gt; | F &lt;dbl&gt; | Pr(&gt;F) &lt;dbl&gt; |\n",
       "|---|---|---|---|---|---|---|\n",
       "| 1 | 19 | 0.8114153 | NA |        NA |       NA |         NA |\n",
       "| 2 | 17 | 0.5646407 |  2 | 0.2467746 | 3.714901 | 0.04586657 |\n",
       "\n"
      ],
      "text/plain": [
       "  Res.Df RSS       Df Sum of Sq F        Pr(>F)    \n",
       "1 19     0.8114153 NA        NA       NA         NA\n",
       "2 17     0.5646407  2 0.2467746 3.714901 0.04586657"
      ]
     },
     "metadata": {},
     "output_type": "display_data"
    }
   ],
   "source": [
    "linearHypothesis(mod4, c(\"L(res)=0\", \"L(res, 2)=0\"))"
   ]
  },
  {
   "cell_type": "code",
   "execution_count": null,
   "id": "c670252a",
   "metadata": {},
   "outputs": [],
   "source": []
  },
  {
   "cell_type": "markdown",
   "id": "9d49f830",
   "metadata": {},
   "source": [
    "## Part 2"
   ]
  },
  {
   "cell_type": "code",
   "execution_count": 30,
   "id": "862139db",
   "metadata": {
    "ExecuteTime": {
     "end_time": "2022-02-08T03:26:47.368802Z",
     "start_time": "2022-02-08T03:26:47.347Z"
    }
   },
   "outputs": [
    {
     "data": {
      "text/plain": [
       "\n",
       "\tDurbin-Watson test\n",
       "\n",
       "data:  mod1\n",
       "DW = 0.14512, p-value = 3.227e-15\n",
       "alternative hypothesis: true autocorrelation is greater than 0\n"
      ]
     },
     "metadata": {},
     "output_type": "display_data"
    }
   ],
   "source": [
    "mod1 <- lm(COSM~DPI,data=data)\n",
    "# summary(mod1)\n",
    "dwtest(mod1)"
   ]
  },
  {
   "cell_type": "code",
   "execution_count": 31,
   "id": "0ba0fef4",
   "metadata": {
    "ExecuteTime": {
     "end_time": "2022-02-08T03:27:07.443217Z",
     "start_time": "2022-02-08T03:27:07.394Z"
    }
   },
   "outputs": [
    {
     "data": {
      "text/plain": [
       "\n",
       "\tDurbin-Watson test\n",
       "\n",
       "data:  mod1\n",
       "DW = 0.81653, p-value = 5.252e-05\n",
       "alternative hypothesis: true autocorrelation is greater than 0\n"
      ]
     },
     "metadata": {},
     "output_type": "display_data"
    }
   ],
   "source": [
    "mod1 <- lm(COSM~DPI+PRELCOSM,data=data)\n",
    "# summary(mod1)\n",
    "dwtest(mod1)"
   ]
  },
  {
   "cell_type": "code",
   "execution_count": 32,
   "id": "18fd9a37",
   "metadata": {
    "ExecuteTime": {
     "end_time": "2022-02-08T03:29:38.983305Z",
     "start_time": "2022-02-08T03:29:38.948Z"
    }
   },
   "outputs": [
    {
     "data": {
      "text/plain": [
       "\n",
       "\tDurbin-Watson test\n",
       "\n",
       "data:  mod1\n",
       "DW = 0.47426, p-value = 2.86e-08\n",
       "alternative hypothesis: true autocorrelation is greater than 0\n"
      ]
     },
     "metadata": {},
     "output_type": "display_data"
    }
   ],
   "source": [
    "mod1 <- lm(log(COSM)~log(DPI)+log(PRELCOSM),data=data)\n",
    "# summary(mod1)\n",
    "dwtest(mod1)"
   ]
  },
  {
   "cell_type": "code",
   "execution_count": 33,
   "id": "2c4a30f9",
   "metadata": {
    "ExecuteTime": {
     "end_time": "2022-02-08T03:30:15.085567Z",
     "start_time": "2022-02-08T03:30:15.057Z"
    }
   },
   "outputs": [
    {
     "data": {
      "text/plain": [
       "\n",
       "\tDurbin-Watson test\n",
       "\n",
       "data:  mod1\n",
       "DW = 0.91506, p-value = 0.0001474\n",
       "alternative hypothesis: true autocorrelation is greater than 0\n"
      ]
     },
     "metadata": {},
     "output_type": "display_data"
    }
   ],
   "source": [
    "mod1 <- lm(COSM~DPI+I(DPI^2)+PRELCOSM,data=data)\n",
    "# summary(mod1)\n",
    "dwtest(mod1)"
   ]
  },
  {
   "cell_type": "code",
   "execution_count": 34,
   "id": "83d4721a",
   "metadata": {
    "ExecuteTime": {
     "end_time": "2022-02-08T03:30:37.608734Z",
     "start_time": "2022-02-08T03:30:37.591Z"
    }
   },
   "outputs": [
    {
     "data": {
      "text/plain": [
       "\n",
       "\tDurbin-Watson test\n",
       "\n",
       "data:  mod1\n",
       "DW = 1.1516, p-value = 0.0006682\n",
       "alternative hypothesis: true autocorrelation is greater than 0\n"
      ]
     },
     "metadata": {},
     "output_type": "display_data"
    }
   ],
   "source": [
    "mod1 <- lm(COSM~DPI+I(DPI^2)+I(DPI^3)+PRELCOSM,data=data)\n",
    "# summary(mod1)\n",
    "dwtest(mod1)"
   ]
  },
  {
   "cell_type": "code",
   "execution_count": 38,
   "id": "9c86b26f",
   "metadata": {
    "ExecuteTime": {
     "end_time": "2022-02-08T03:41:58.129362Z",
     "start_time": "2022-02-08T03:41:58.106Z"
    }
   },
   "outputs": [],
   "source": [
    "library('orcutt')"
   ]
  },
  {
   "cell_type": "code",
   "execution_count": 41,
   "id": "e9df9052",
   "metadata": {
    "ExecuteTime": {
     "end_time": "2022-02-08T03:47:14.606605Z",
     "start_time": "2022-02-08T03:47:14.586Z"
    }
   },
   "outputs": [
    {
     "data": {
      "text/plain": [
       "\n",
       "Call:\n",
       "lm(formula = COSM ~ DPI, data = data)\n",
       "\n",
       "Residuals:\n",
       "     Min       1Q   Median       3Q      Max \n",
       "-1.06656 -0.32737 -0.06412  0.58641  0.69526 \n",
       "\n",
       "Coefficients:\n",
       "             Estimate Std. Error t value Pr(>|t|)    \n",
       "(Intercept) 0.3372820  0.4569091   0.738    0.468    \n",
       "DPI         0.0079826  0.0005683  14.048 8.97e-13 ***\n",
       "---\n",
       "Signif. codes:  0 ‘***’ 0.001 ‘**’ 0.01 ‘*’ 0.05 ‘.’ 0.1 ‘ ’ 1\n",
       "\n",
       "Residual standard error: 0.5542 on 23 degrees of freedom\n",
       "Multiple R-squared:  0.8956,\tAdjusted R-squared:  0.8911 \n",
       "F-statistic: 197.3 on 1 and 23 DF,  p-value: 8.969e-13\n"
      ]
     },
     "metadata": {},
     "output_type": "display_data"
    }
   ],
   "source": [
    "mod1 <- lm(COSM~DPI,data=data)\n",
    "summary(mod1)"
   ]
  },
  {
   "cell_type": "code",
   "execution_count": 42,
   "id": "b740e504",
   "metadata": {
    "ExecuteTime": {
     "end_time": "2022-02-08T03:47:24.021191Z",
     "start_time": "2022-02-08T03:47:24.004Z"
    }
   },
   "outputs": [
    {
     "data": {
      "text/plain": [
       "\n",
       "\tDurbin-Watson test\n",
       "\n",
       "data:  mod1\n",
       "DW = 0.14512, p-value = 3.227e-15\n",
       "alternative hypothesis: true autocorrelation is greater than 0\n"
      ]
     },
     "metadata": {},
     "output_type": "display_data"
    }
   ],
   "source": [
    "dwtest(mod1)"
   ]
  },
  {
   "cell_type": "code",
   "execution_count": 40,
   "id": "47715dd7",
   "metadata": {
    "ExecuteTime": {
     "end_time": "2022-02-08T03:42:08.161677Z",
     "start_time": "2022-02-08T03:42:08.100Z"
    }
   },
   "outputs": [
    {
     "data": {
      "text/plain": [
       "Call:\n",
       "lm(formula = COSM ~ DPI, data = data)\n",
       "\n",
       "             Estimate Std. Error t value  Pr(>|t|)    \n",
       "(Intercept) 3.8507530  1.0670374   3.609 0.0015580 ** \n",
       "DPI         0.0043042  0.0011103   3.877 0.0008144 ***\n",
       "---\n",
       "Signif. codes:  0 ‘***’ 0.001 ‘**’ 0.01 ‘*’ 0.05 ‘.’ 0.1 ‘ ’ 1\n",
       "\n",
       "Residual standard error: 0.1724 on 22 degrees of freedom\n",
       "Multiple R-squared:  0.4059 ,  Adjusted R-squared:  0.3789\n",
       "F-statistic: 15 on 1 and 22 DF,  p-value: < 8.144e-04\n",
       "\n",
       "Durbin-Watson statistic \n",
       "(original):    0.14512 , p-value: 3.227e-15\n",
       "(transformed): 1.08288 , p-value: 4.105e-03"
      ]
     },
     "metadata": {},
     "output_type": "display_data"
    }
   ],
   "source": [
    "coch = cochrane.orcutt(mod1)\n",
    "summary(coch)"
   ]
  },
  {
   "cell_type": "code",
   "execution_count": 43,
   "id": "065cb26e",
   "metadata": {
    "ExecuteTime": {
     "end_time": "2022-02-08T03:47:32.550890Z",
     "start_time": "2022-02-08T03:47:32.534Z"
    }
   },
   "outputs": [
    {
     "data": {
      "text/plain": [
       "\n",
       "\tDurbin-Watson test\n",
       "\n",
       "data:  coch\n",
       "DW = 1.0829, p-value = 0.004105\n",
       "alternative hypothesis: true autocorrelation is greater than 0\n"
      ]
     },
     "metadata": {},
     "output_type": "display_data"
    }
   ],
   "source": [
    "dwtest(coch)"
   ]
  },
  {
   "cell_type": "code",
   "execution_count": 47,
   "id": "61fe188f",
   "metadata": {
    "ExecuteTime": {
     "end_time": "2022-02-08T03:51:31.504745Z",
     "start_time": "2022-02-08T03:51:31.436Z"
    }
   },
   "outputs": [],
   "source": [
    "mod1 <- lm(COSM~DPI+PRELCOSM,data=data)\n",
    "# summary(mod1)\n",
    "coch = cochrane.orcutt(mod1)\n",
    "# summary(coch)\n"
   ]
  },
  {
   "cell_type": "code",
   "execution_count": 45,
   "id": "6705b518",
   "metadata": {
    "ExecuteTime": {
     "end_time": "2022-02-08T03:51:01.158957Z",
     "start_time": "2022-02-08T03:51:01.047Z"
    }
   },
   "outputs": [
    {
     "data": {
      "text/plain": [
       "\n",
       "\tDurbin-Watson test\n",
       "\n",
       "data:  mod1\n",
       "DW = 0.81653, p-value = 5.252e-05\n",
       "alternative hypothesis: true autocorrelation is greater than 0\n"
      ]
     },
     "metadata": {},
     "output_type": "display_data"
    },
    {
     "data": {
      "text/plain": [
       "Call:\n",
       "lm(formula = COSM ~ DPI + PRELCOSM, data = data)\n",
       "\n",
       "               Estimate  Std. Error t value  Pr(>|t|)    \n",
       "(Intercept) 13.21977783  1.24435805  10.624 6.646e-10 ***\n",
       "DPI          0.00410291  0.00045454   9.027 1.128e-08 ***\n",
       "PRELCOSM    -0.09129227  0.01066610  -8.559 2.742e-08 ***\n",
       "---\n",
       "Signif. codes:  0 ‘***’ 0.001 ‘**’ 0.01 ‘*’ 0.05 ‘.’ 0.1 ‘ ’ 1\n",
       "\n",
       "Residual standard error: 0.0846 on 21 degrees of freedom\n",
       "Multiple R-squared:  0.9028 ,  Adjusted R-squared:  0.8936\n",
       "F-statistic: 97.6 on 2 and 21 DF,  p-value: < 2.336e-11\n",
       "\n",
       "Durbin-Watson statistic \n",
       "(original):    0.81653 , p-value: 5.252e-05\n",
       "(transformed): 1.88013 , p-value: 2.624e-01"
      ]
     },
     "metadata": {},
     "output_type": "display_data"
    },
    {
     "data": {
      "text/plain": [
       "\n",
       "\tDurbin-Watson test\n",
       "\n",
       "data:  coch\n",
       "DW = 1.8801, p-value = 0.2624\n",
       "alternative hypothesis: true autocorrelation is greater than 0\n"
      ]
     },
     "metadata": {},
     "output_type": "display_data"
    }
   ],
   "source": [
    "dwtest(mod1)\n",
    "\n",
    "\n",
    "dwtest(coch)"
   ]
  }
 ],
 "metadata": {
  "hide_input": false,
  "kernelspec": {
   "display_name": "R 4.0.2",
   "language": "R",
   "name": "ir"
  },
  "language_info": {
   "codemirror_mode": "r",
   "file_extension": ".r",
   "mimetype": "text/x-r-source",
   "name": "R",
   "pygments_lexer": "r",
   "version": "4.0.4"
  },
  "latex_envs": {
   "LaTeX_envs_menu_present": true,
   "autoclose": true,
   "autocomplete": true,
   "bibliofile": "biblio.bib",
   "cite_by": "apalike",
   "current_citInitial": 1,
   "eqLabelWithNumbers": true,
   "eqNumInitial": 1,
   "hotkeys": {
    "equation": "Ctrl-E",
    "itemize": "Ctrl-I"
   },
   "labels_anchors": false,
   "latex_user_defs": false,
   "report_style_numbering": false,
   "user_envs_cfg": false
  },
  "toc": {
   "base_numbering": 1,
   "nav_menu": {},
   "number_sections": true,
   "sideBar": true,
   "skip_h1_title": false,
   "title_cell": "Table of Contents",
   "title_sidebar": "Contents",
   "toc_cell": false,
   "toc_position": {},
   "toc_section_display": true,
   "toc_window_display": false
  },
  "varInspector": {
   "cols": {
    "lenName": 16,
    "lenType": 16,
    "lenVar": 40
   },
   "kernels_config": {
    "python": {
     "delete_cmd_postfix": "",
     "delete_cmd_prefix": "del ",
     "library": "var_list.py",
     "varRefreshCmd": "print(var_dic_list())"
    },
    "r": {
     "delete_cmd_postfix": ") ",
     "delete_cmd_prefix": "rm(",
     "library": "var_list.r",
     "varRefreshCmd": "cat(var_dic_list()) "
    }
   },
   "types_to_exclude": [
    "module",
    "function",
    "builtin_function_or_method",
    "instance",
    "_Feature"
   ],
   "window_display": false
  }
 },
 "nbformat": 4,
 "nbformat_minor": 5
}
