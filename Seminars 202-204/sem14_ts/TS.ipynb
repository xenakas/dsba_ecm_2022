{
 "cells": [
  {
   "cell_type": "markdown",
   "id": "e8a1b171",
   "metadata": {},
   "source": [
    "### Problem 1"
   ]
  },
  {
   "cell_type": "code",
   "execution_count": 1,
   "id": "8d560a94",
   "metadata": {
    "ExecuteTime": {
     "end_time": "2023-01-12T13:50:07.790922Z",
     "start_time": "2023-01-12T13:50:07.749Z"
    }
   },
   "outputs": [],
   "source": [
    "library(hexView)"
   ]
  },
  {
   "cell_type": "code",
   "execution_count": 2,
   "id": "db208be7",
   "metadata": {
    "ExecuteTime": {
     "end_time": "2023-01-12T13:50:19.783268Z",
     "start_time": "2023-01-12T13:50:19.652Z"
    }
   },
   "outputs": [
    {
     "name": "stderr",
     "output_type": "stream",
     "text": [
      "Warning message in readEViews(\"EXPEND.WF1\"):\n",
      "“Skipping boilerplate variable\n",
      "”\n",
      "Warning message in readEViews(\"EXPEND.WF1\"):\n",
      "“Skipping boilerplate variable\n",
      "”\n"
     ]
    },
    {
     "data": {
      "text/html": [
       "<table class=\"dataframe\">\n",
       "<caption>A data.frame: 6 × 67</caption>\n",
       "<thead>\n",
       "\t<tr><th></th><th scope=col>Date</th><th scope=col>AIR</th><th scope=col>CLOT</th><th scope=col>COSM</th><th scope=col>DATE</th><th scope=col>DENT</th><th scope=col>DOC</th><th scope=col>DPI</th><th scope=col>FOOD</th><th scope=col>FUEL</th><th scope=col>⋯</th><th scope=col>PTOB</th><th scope=col>PTPE</th><th scope=col>PWAT</th><th scope=col>REC</th><th scope=col>TAB</th><th scope=col>TELE</th><th scope=col>TIME</th><th scope=col>TOB</th><th scope=col>TPE</th><th scope=col>WAT</th></tr>\n",
       "\t<tr><th></th><th scope=col>&lt;date&gt;</th><th scope=col>&lt;dbl&gt;</th><th scope=col>&lt;dbl&gt;</th><th scope=col>&lt;dbl&gt;</th><th scope=col>&lt;dbl&gt;</th><th scope=col>&lt;dbl&gt;</th><th scope=col>&lt;dbl&gt;</th><th scope=col>&lt;dbl&gt;</th><th scope=col>&lt;dbl&gt;</th><th scope=col>&lt;dbl&gt;</th><th scope=col>⋯</th><th scope=col>&lt;dbl&gt;</th><th scope=col>&lt;dbl&gt;</th><th scope=col>&lt;dbl&gt;</th><th scope=col>&lt;dbl&gt;</th><th scope=col>&lt;dbl&gt;</th><th scope=col>&lt;dbl&gt;</th><th scope=col>&lt;dbl&gt;</th><th scope=col>&lt;dbl&gt;</th><th scope=col>&lt;dbl&gt;</th><th scope=col>&lt;dbl&gt;</th></tr>\n",
       "</thead>\n",
       "<tbody>\n",
       "\t<tr><th scope=row>1</th><td>1959-01-01</td><td>0.9</td><td>36.3</td><td>3.1</td><td>1959</td><td>3.2</td><td> 8.8</td><td>479.7</td><td> 99.7</td><td>5.2</td><td>⋯</td><td>61.0</td><td>70.6</td><td>58.4</td><td> 9.6</td><td>2.6</td><td>4.7</td><td>1</td><td>10.7</td><td>440.4</td><td>2.0</td></tr>\n",
       "\t<tr><th scope=row>2</th><td>1960-01-01</td><td>0.9</td><td>36.6</td><td>3.5</td><td>1960</td><td>3.2</td><td> 9.0</td><td>489.7</td><td>100.9</td><td>5.0</td><td>⋯</td><td>63.2</td><td>71.9</td><td>60.2</td><td>10.0</td><td>2.5</td><td>5.0</td><td>2</td><td>10.9</td><td>452.0</td><td>2.2</td></tr>\n",
       "\t<tr><th scope=row>3</th><td>1961-01-01</td><td>1.0</td><td>37.3</td><td>3.9</td><td>1961</td><td>3.3</td><td> 9.1</td><td>503.8</td><td>102.5</td><td>4.7</td><td>⋯</td><td>63.8</td><td>72.6</td><td>61.8</td><td>10.4</td><td>2.5</td><td>5.4</td><td>3</td><td>11.2</td><td>461.4</td><td>2.3</td></tr>\n",
       "\t<tr><th scope=row>4</th><td>1962-01-01</td><td>1.1</td><td>38.9</td><td>4.2</td><td>1962</td><td>3.5</td><td> 9.8</td><td>524.9</td><td>103.5</td><td>4.7</td><td>⋯</td><td>64.4</td><td>73.7</td><td>63.4</td><td>10.9</td><td>2.6</td><td>5.7</td><td>4</td><td>11.2</td><td>482.0</td><td>2.5</td></tr>\n",
       "\t<tr><th scope=row>5</th><td>1963-01-01</td><td>1.2</td><td>39.6</td><td>4.5</td><td>1963</td><td>3.4</td><td>10.2</td><td>542.3</td><td>104.6</td><td>4.9</td><td>⋯</td><td>65.8</td><td>74.8</td><td>65.4</td><td>11.3</td><td>2.5</td><td>6.1</td><td>5</td><td>11.4</td><td>500.5</td><td>2.7</td></tr>\n",
       "\t<tr><th scope=row>6</th><td>1964-01-01</td><td>1.4</td><td>42.6</td><td>4.8</td><td>1964</td><td>3.9</td><td>11.9</td><td>580.8</td><td>108.8</td><td>5.2</td><td>⋯</td><td>67.1</td><td>75.9</td><td>66.5</td><td>11.6</td><td>2.8</td><td>6.6</td><td>6</td><td>11.3</td><td>528.0</td><td>2.8</td></tr>\n",
       "</tbody>\n",
       "</table>\n"
      ],
      "text/latex": [
       "A data.frame: 6 × 67\n",
       "\\begin{tabular}{r|lllllllllllllllllllll}\n",
       "  & Date & AIR & CLOT & COSM & DATE & DENT & DOC & DPI & FOOD & FUEL & ⋯ & PTOB & PTPE & PWAT & REC & TAB & TELE & TIME & TOB & TPE & WAT\\\\\n",
       "  & <date> & <dbl> & <dbl> & <dbl> & <dbl> & <dbl> & <dbl> & <dbl> & <dbl> & <dbl> & ⋯ & <dbl> & <dbl> & <dbl> & <dbl> & <dbl> & <dbl> & <dbl> & <dbl> & <dbl> & <dbl>\\\\\n",
       "\\hline\n",
       "\t1 & 1959-01-01 & 0.9 & 36.3 & 3.1 & 1959 & 3.2 &  8.8 & 479.7 &  99.7 & 5.2 & ⋯ & 61.0 & 70.6 & 58.4 &  9.6 & 2.6 & 4.7 & 1 & 10.7 & 440.4 & 2.0\\\\\n",
       "\t2 & 1960-01-01 & 0.9 & 36.6 & 3.5 & 1960 & 3.2 &  9.0 & 489.7 & 100.9 & 5.0 & ⋯ & 63.2 & 71.9 & 60.2 & 10.0 & 2.5 & 5.0 & 2 & 10.9 & 452.0 & 2.2\\\\\n",
       "\t3 & 1961-01-01 & 1.0 & 37.3 & 3.9 & 1961 & 3.3 &  9.1 & 503.8 & 102.5 & 4.7 & ⋯ & 63.8 & 72.6 & 61.8 & 10.4 & 2.5 & 5.4 & 3 & 11.2 & 461.4 & 2.3\\\\\n",
       "\t4 & 1962-01-01 & 1.1 & 38.9 & 4.2 & 1962 & 3.5 &  9.8 & 524.9 & 103.5 & 4.7 & ⋯ & 64.4 & 73.7 & 63.4 & 10.9 & 2.6 & 5.7 & 4 & 11.2 & 482.0 & 2.5\\\\\n",
       "\t5 & 1963-01-01 & 1.2 & 39.6 & 4.5 & 1963 & 3.4 & 10.2 & 542.3 & 104.6 & 4.9 & ⋯ & 65.8 & 74.8 & 65.4 & 11.3 & 2.5 & 6.1 & 5 & 11.4 & 500.5 & 2.7\\\\\n",
       "\t6 & 1964-01-01 & 1.4 & 42.6 & 4.8 & 1964 & 3.9 & 11.9 & 580.8 & 108.8 & 5.2 & ⋯ & 67.1 & 75.9 & 66.5 & 11.6 & 2.8 & 6.6 & 6 & 11.3 & 528.0 & 2.8\\\\\n",
       "\\end{tabular}\n"
      ],
      "text/markdown": [
       "\n",
       "A data.frame: 6 × 67\n",
       "\n",
       "| <!--/--> | Date &lt;date&gt; | AIR &lt;dbl&gt; | CLOT &lt;dbl&gt; | COSM &lt;dbl&gt; | DATE &lt;dbl&gt; | DENT &lt;dbl&gt; | DOC &lt;dbl&gt; | DPI &lt;dbl&gt; | FOOD &lt;dbl&gt; | FUEL &lt;dbl&gt; | ⋯ ⋯ | PTOB &lt;dbl&gt; | PTPE &lt;dbl&gt; | PWAT &lt;dbl&gt; | REC &lt;dbl&gt; | TAB &lt;dbl&gt; | TELE &lt;dbl&gt; | TIME &lt;dbl&gt; | TOB &lt;dbl&gt; | TPE &lt;dbl&gt; | WAT &lt;dbl&gt; |\n",
       "|---|---|---|---|---|---|---|---|---|---|---|---|---|---|---|---|---|---|---|---|---|---|\n",
       "| 1 | 1959-01-01 | 0.9 | 36.3 | 3.1 | 1959 | 3.2 |  8.8 | 479.7 |  99.7 | 5.2 | ⋯ | 61.0 | 70.6 | 58.4 |  9.6 | 2.6 | 4.7 | 1 | 10.7 | 440.4 | 2.0 |\n",
       "| 2 | 1960-01-01 | 0.9 | 36.6 | 3.5 | 1960 | 3.2 |  9.0 | 489.7 | 100.9 | 5.0 | ⋯ | 63.2 | 71.9 | 60.2 | 10.0 | 2.5 | 5.0 | 2 | 10.9 | 452.0 | 2.2 |\n",
       "| 3 | 1961-01-01 | 1.0 | 37.3 | 3.9 | 1961 | 3.3 |  9.1 | 503.8 | 102.5 | 4.7 | ⋯ | 63.8 | 72.6 | 61.8 | 10.4 | 2.5 | 5.4 | 3 | 11.2 | 461.4 | 2.3 |\n",
       "| 4 | 1962-01-01 | 1.1 | 38.9 | 4.2 | 1962 | 3.5 |  9.8 | 524.9 | 103.5 | 4.7 | ⋯ | 64.4 | 73.7 | 63.4 | 10.9 | 2.6 | 5.7 | 4 | 11.2 | 482.0 | 2.5 |\n",
       "| 5 | 1963-01-01 | 1.2 | 39.6 | 4.5 | 1963 | 3.4 | 10.2 | 542.3 | 104.6 | 4.9 | ⋯ | 65.8 | 74.8 | 65.4 | 11.3 | 2.5 | 6.1 | 5 | 11.4 | 500.5 | 2.7 |\n",
       "| 6 | 1964-01-01 | 1.4 | 42.6 | 4.8 | 1964 | 3.9 | 11.9 | 580.8 | 108.8 | 5.2 | ⋯ | 67.1 | 75.9 | 66.5 | 11.6 | 2.8 | 6.6 | 6 | 11.3 | 528.0 | 2.8 |\n",
       "\n"
      ],
      "text/plain": [
       "  Date       AIR CLOT COSM DATE DENT DOC  DPI   FOOD  FUEL ⋯ PTOB PTPE PWAT\n",
       "1 1959-01-01 0.9 36.3 3.1  1959 3.2   8.8 479.7  99.7 5.2  ⋯ 61.0 70.6 58.4\n",
       "2 1960-01-01 0.9 36.6 3.5  1960 3.2   9.0 489.7 100.9 5.0  ⋯ 63.2 71.9 60.2\n",
       "3 1961-01-01 1.0 37.3 3.9  1961 3.3   9.1 503.8 102.5 4.7  ⋯ 63.8 72.6 61.8\n",
       "4 1962-01-01 1.1 38.9 4.2  1962 3.5   9.8 524.9 103.5 4.7  ⋯ 64.4 73.7 63.4\n",
       "5 1963-01-01 1.2 39.6 4.5  1963 3.4  10.2 542.3 104.6 4.9  ⋯ 65.8 74.8 65.4\n",
       "6 1964-01-01 1.4 42.6 4.8  1964 3.9  11.9 580.8 108.8 5.2  ⋯ 67.1 75.9 66.5\n",
       "  REC  TAB TELE TIME TOB  TPE   WAT\n",
       "1  9.6 2.6 4.7  1    10.7 440.4 2.0\n",
       "2 10.0 2.5 5.0  2    10.9 452.0 2.2\n",
       "3 10.4 2.5 5.4  3    11.2 461.4 2.3\n",
       "4 10.9 2.6 5.7  4    11.2 482.0 2.5\n",
       "5 11.3 2.5 6.1  5    11.4 500.5 2.7\n",
       "6 11.6 2.8 6.6  6    11.3 528.0 2.8"
      ]
     },
     "metadata": {},
     "output_type": "display_data"
    }
   ],
   "source": [
    "data <- readEViews('EXPEND.WF1')\n",
    "head(data)"
   ]
  },
  {
   "cell_type": "code",
   "execution_count": 3,
   "id": "26e61ca5",
   "metadata": {
    "ExecuteTime": {
     "end_time": "2023-01-12T13:51:13.939661Z",
     "start_time": "2023-01-12T13:51:13.907Z"
    }
   },
   "outputs": [
    {
     "data": {
      "text/html": [
       "<style>\n",
       ".list-inline {list-style: none; margin:0; padding: 0}\n",
       ".list-inline>li {display: inline-block}\n",
       ".list-inline>li:not(:last-child)::after {content: \"\\00b7\"; padding: 0 .5ex}\n",
       "</style>\n",
       "<ol class=list-inline><li>25</li><li>67</li></ol>\n"
      ],
      "text/latex": [
       "\\begin{enumerate*}\n",
       "\\item 25\n",
       "\\item 67\n",
       "\\end{enumerate*}\n"
      ],
      "text/markdown": [
       "1. 25\n",
       "2. 67\n",
       "\n",
       "\n"
      ],
      "text/plain": [
       "[1] 25 67"
      ]
     },
     "metadata": {},
     "output_type": "display_data"
    }
   ],
   "source": [
    "dim(data)"
   ]
  },
  {
   "cell_type": "code",
   "execution_count": 4,
   "id": "42855f70",
   "metadata": {
    "ExecuteTime": {
     "end_time": "2023-01-12T13:51:43.144364Z",
     "start_time": "2023-01-12T13:51:43.097Z"
    }
   },
   "outputs": [
    {
     "data": {
      "text/plain": [
       "\n",
       "Call:\n",
       "lm(formula = HOUS ~ DPI, data = data)\n",
       "\n",
       "Residuals:\n",
       "   Min     1Q Median     3Q    Max \n",
       "-8.897 -3.172  0.332  4.040  5.905 \n",
       "\n",
       "Coefficients:\n",
       "              Estimate Std. Error t value Pr(>|t|)    \n",
       "(Intercept) -27.571737   3.373796  -8.172 2.97e-08 ***\n",
       "DPI           0.178746   0.004196  42.599  < 2e-16 ***\n",
       "---\n",
       "Signif. codes:  0 ‘***’ 0.001 ‘**’ 0.01 ‘*’ 0.05 ‘.’ 0.1 ‘ ’ 1\n",
       "\n",
       "Residual standard error: 4.092 on 23 degrees of freedom\n",
       "Multiple R-squared:  0.9875,\tAdjusted R-squared:  0.9869 \n",
       "F-statistic:  1815 on 1 and 23 DF,  p-value: < 2.2e-16\n"
      ]
     },
     "metadata": {},
     "output_type": "display_data"
    }
   ],
   "source": [
    "summary(lm(HOUS~DPI, data = data))"
   ]
  },
  {
   "cell_type": "code",
   "execution_count": 5,
   "id": "8444de48",
   "metadata": {
    "ExecuteTime": {
     "end_time": "2023-01-12T13:54:01.674585Z",
     "start_time": "2023-01-12T13:54:01.132Z"
    }
   },
   "outputs": [
    {
     "name": "stderr",
     "output_type": "stream",
     "text": [
      "Registered S3 method overwritten by 'quantmod':\n",
      "  method            from\n",
      "  as.zoo.data.frame zoo \n",
      "\n"
     ]
    }
   ],
   "source": [
    "library(forecast)"
   ]
  },
  {
   "cell_type": "code",
   "execution_count": 6,
   "id": "518863e0",
   "metadata": {
    "ExecuteTime": {
     "end_time": "2023-01-12T13:54:11.005750Z",
     "start_time": "2023-01-12T13:54:10.288Z"
    }
   },
   "outputs": [
    {
     "data": {
      "image/png": "[encoded data removed]",
      "text/plain": [
       "plot without title"
      ]
     },
     "metadata": {
      "image/png": {
       "height": 420,
       "width": 420
      }
     },
     "output_type": "display_data"
    }
   ],
   "source": [
    "ggtsdisplay(ts(data[['HOUS']]))"
   ]
  },
  {
   "cell_type": "code",
   "execution_count": 7,
   "id": "6080bc27",
   "metadata": {
    "ExecuteTime": {
     "end_time": "2023-01-12T13:54:18.225775Z",
     "start_time": "2023-01-12T13:54:17.714Z"
    }
   },
   "outputs": [
    {
     "data": {
      "image/png": "[encoded data removed]",
      "text/plain": [
       "plot without title"
      ]
     },
     "metadata": {
      "image/png": {
       "height": 420,
       "width": 420
      }
     },
     "output_type": "display_data"
    }
   ],
   "source": [
    "ggtsdisplay(ts(data[['DPI']]))"
   ]
  },
  {
   "cell_type": "code",
   "execution_count": 8,
   "id": "b7d3d752",
   "metadata": {
    "ExecuteTime": {
     "end_time": "2023-01-12T13:58:44.973005Z",
     "start_time": "2023-01-12T13:58:44.944Z"
    }
   },
   "outputs": [
    {
     "data": {
      "text/plain": [
       "\n",
       "Call:\n",
       "lm(formula = HOUS ~ DPI + DATE, data = data)\n",
       "\n",
       "Residuals:\n",
       "    Min      1Q  Median      3Q     Max \n",
       "-5.4225 -3.4529 -0.1598  3.1525  6.1772 \n",
       "\n",
       "Coefficients:\n",
       "              Estimate Std. Error t value Pr(>|t|)  \n",
       "(Intercept) -7.316e+03  3.206e+03  -2.282   0.0325 *\n",
       "DPI          4.029e-02  6.102e-02   0.660   0.5160  \n",
       "DATE         3.753e+00  1.651e+00   2.274   0.0331 *\n",
       "---\n",
       "Signif. codes:  0 ‘***’ 0.001 ‘**’ 0.01 ‘*’ 0.05 ‘.’ 0.1 ‘ ’ 1\n",
       "\n",
       "Residual standard error: 3.765 on 22 degrees of freedom\n",
       "Multiple R-squared:  0.9899,\tAdjusted R-squared:  0.9889 \n",
       "F-statistic:  1074 on 2 and 22 DF,  p-value: < 2.2e-16\n"
      ]
     },
     "metadata": {},
     "output_type": "display_data"
    }
   ],
   "source": [
    "summary(lm(HOUS~DPI+DATE, data = data))"
   ]
  },
  {
   "cell_type": "code",
   "execution_count": 10,
   "id": "63fdf4f2",
   "metadata": {
    "ExecuteTime": {
     "end_time": "2023-01-12T14:03:07.420543Z",
     "start_time": "2023-01-12T14:03:07.396Z"
    }
   },
   "outputs": [],
   "source": [
    "library('dynlm')"
   ]
  },
  {
   "cell_type": "code",
   "execution_count": 11,
   "id": "398105bc",
   "metadata": {
    "ExecuteTime": {
     "end_time": "2023-01-12T14:03:26.920629Z",
     "start_time": "2023-01-12T14:03:26.889Z"
    }
   },
   "outputs": [],
   "source": [
    "h1 = ts(data['HOUS'], start = c(1959))\n",
    "d1 = ts(data['DPI'], start = c(1959))"
   ]
  },
  {
   "cell_type": "code",
   "execution_count": 16,
   "id": "7ce62b0d",
   "metadata": {
    "ExecuteTime": {
     "end_time": "2023-01-12T14:05:46.309280Z",
     "start_time": "2023-01-12T14:05:46.292Z"
    }
   },
   "outputs": [],
   "source": [
    "# lag(h1,3)"
   ]
  },
  {
   "cell_type": "code",
   "execution_count": 12,
   "id": "b0a326d3",
   "metadata": {
    "ExecuteTime": {
     "end_time": "2023-01-12T14:03:48.108179Z",
     "start_time": "2023-01-12T14:03:48.079Z"
    }
   },
   "outputs": [
    {
     "data": {
      "text/plain": [
       "\n",
       "Time series regression with \"ts\" data:\n",
       "Start = 1960, End = 1983\n",
       "\n",
       "Call:\n",
       "dynlm(formula = h1 ~ d1 + L(d1, 1), data = data)\n",
       "\n",
       "Residuals:\n",
       "    Min      1Q  Median      3Q     Max \n",
       "-6.4223 -3.5807  0.9818  3.1626  4.6685 \n",
       "\n",
       "Coefficients:\n",
       "             Estimate Std. Error t value Pr(>|t|)    \n",
       "(Intercept) -25.67396    3.45641  -7.428 2.65e-07 ***\n",
       "d1            0.03563    0.05771   0.618   0.5435    \n",
       "L(d1, 1)      0.14528    0.05803   2.503   0.0206 *  \n",
       "---\n",
       "Signif. codes:  0 ‘***’ 0.001 ‘**’ 0.01 ‘*’ 0.05 ‘.’ 0.1 ‘ ’ 1\n",
       "\n",
       "Residual standard error: 3.716 on 21 degrees of freedom\n",
       "Multiple R-squared:  0.9897,\tAdjusted R-squared:  0.9887 \n",
       "F-statistic:  1006 on 2 and 21 DF,  p-value: < 2.2e-16\n"
      ]
     },
     "metadata": {},
     "output_type": "display_data"
    }
   ],
   "source": [
    "#ARDL(0,1)\n",
    "summary(dynlm(h1~d1+L(d1,1), data = data))"
   ]
  },
  {
   "cell_type": "code",
   "execution_count": 17,
   "id": "8c2f47d4",
   "metadata": {
    "ExecuteTime": {
     "end_time": "2023-01-12T14:06:14.620813Z",
     "start_time": "2023-01-12T14:06:14.587Z"
    }
   },
   "outputs": [
    {
     "data": {
      "text/plain": [
       "\n",
       "Time series regression with \"ts\" data:\n",
       "Start = 1962, End = 1983\n",
       "\n",
       "Call:\n",
       "dynlm(formula = h1 ~ d1 + L(d1, 1) + L(d1, 2) + L(d1, 3), data = data)\n",
       "\n",
       "Residuals:\n",
       "   Min     1Q Median     3Q    Max \n",
       "-4.593 -2.595  0.812  2.854  3.719 \n",
       "\n",
       "Coefficients:\n",
       "              Estimate Std. Error t value Pr(>|t|)    \n",
       "(Intercept) -23.698788   4.196254  -5.648 2.89e-05 ***\n",
       "d1            0.041250   0.054211   0.761   0.4571    \n",
       "L(d1, 1)      0.036869   0.071478   0.516   0.6126    \n",
       "L(d1, 2)      0.002094   0.075369   0.028   0.9782    \n",
       "L(d1, 3)      0.104558   0.054182   1.930   0.0705 .  \n",
       "---\n",
       "Signif. codes:  0 ‘***’ 0.001 ‘**’ 0.01 ‘*’ 0.05 ‘.’ 0.1 ‘ ’ 1\n",
       "\n",
       "Residual standard error: 3.258 on 17 degrees of freedom\n",
       "Multiple R-squared:  0.9921,\tAdjusted R-squared:  0.9903 \n",
       "F-statistic:   536 on 4 and 17 DF,  p-value: < 2.2e-16\n"
      ]
     },
     "metadata": {},
     "output_type": "display_data"
    }
   ],
   "source": [
    "#ARDL(0,3)\n",
    "summary(dynlm(h1~d1+L(d1,1)+L(d1,2)+L(d1,3), data = data))"
   ]
  },
  {
   "cell_type": "code",
   "execution_count": 18,
   "id": "0dd6c765",
   "metadata": {
    "ExecuteTime": {
     "end_time": "2023-01-12T14:06:51.946208Z",
     "start_time": "2023-01-12T14:06:51.891Z"
    }
   },
   "outputs": [
    {
     "data": {
      "text/plain": [
       "\n",
       "Time series regression with \"ts\" data:\n",
       "Start = 1969, End = 1983\n",
       "\n",
       "Call:\n",
       "dynlm(formula = h1 ~ d1 + L(d1, 1) + L(d1, 2) + L(d1, 10), data = data)\n",
       "\n",
       "Residuals:\n",
       "    Min      1Q  Median      3Q     Max \n",
       "-2.5567 -0.6465  0.1302  0.8847  1.5968 \n",
       "\n",
       "Coefficients:\n",
       "             Estimate Std. Error t value Pr(>|t|)    \n",
       "(Intercept) -36.73107    6.18439  -5.939 0.000143 ***\n",
       "d1            0.06610    0.02562   2.580 0.027413 *  \n",
       "L(d1, 1)      0.07144    0.03160   2.261 0.047303 *  \n",
       "L(d1, 2)      0.01759    0.03016   0.583 0.572633    \n",
       "L(d1, 10)     0.05099    0.02181   2.338 0.041510 *  \n",
       "---\n",
       "Signif. codes:  0 ‘***’ 0.001 ‘**’ 0.01 ‘*’ 0.05 ‘.’ 0.1 ‘ ’ 1\n",
       "\n",
       "Residual standard error: 1.387 on 10 degrees of freedom\n",
       "Multiple R-squared:  0.9978,\tAdjusted R-squared:  0.9969 \n",
       "F-statistic:  1126 on 4 and 10 DF,  p-value: 3.201e-13\n"
      ]
     },
     "metadata": {},
     "output_type": "display_data"
    }
   ],
   "source": [
    "#ARDL(0,10) with restrictions \n",
    "summary(dynlm(h1~d1+L(d1,1)+L(d1,2)+L(d1,10), data = data))"
   ]
  },
  {
   "cell_type": "markdown",
   "id": "a75e8672",
   "metadata": {},
   "source": [
    "### Problem 2"
   ]
  },
  {
   "cell_type": "code",
   "execution_count": 19,
   "id": "05f3667f",
   "metadata": {
    "ExecuteTime": {
     "end_time": "2023-01-12T14:35:17.552833Z",
     "start_time": "2023-01-12T14:35:17.502Z"
    }
   },
   "outputs": [
    {
     "data": {
      "text/plain": [
       "\n",
       "Time series regression with \"ts\" data:\n",
       "Start = 1960, End = 1983\n",
       "\n",
       "Call:\n",
       "dynlm(formula = h1 ~ d1 + L(h1), data = data)\n",
       "\n",
       "Residuals:\n",
       "    Min      1Q  Median      3Q     Max \n",
       "-1.5992 -0.7073  0.1632  0.5990  1.5120 \n",
       "\n",
       "Coefficients:\n",
       "             Estimate Std. Error t value Pr(>|t|)    \n",
       "(Intercept) -2.634296   1.471592  -1.790 0.087868 .  \n",
       "d1           0.029204   0.007269   4.018 0.000623 ***\n",
       "L(h1)        0.854534   0.040887  20.900 1.55e-15 ***\n",
       "---\n",
       "Signif. codes:  0 ‘***’ 0.001 ‘**’ 0.01 ‘*’ 0.05 ‘.’ 0.1 ‘ ’ 1\n",
       "\n",
       "Residual standard error: 0.907 on 21 degrees of freedom\n",
       "Multiple R-squared:  0.9994,\tAdjusted R-squared:  0.9993 \n",
       "F-statistic: 1.705e+04 on 2 and 21 DF,  p-value: < 2.2e-16\n"
      ]
     },
     "metadata": {},
     "output_type": "display_data"
    }
   ],
   "source": [
    "# ARDL(1,0)\n",
    "c1 = summary(dynlm(h1~d1+L(h1), data = data))\n",
    "c1"
   ]
  },
  {
   "cell_type": "code",
   "execution_count": 20,
   "id": "7145814f",
   "metadata": {
    "ExecuteTime": {
     "end_time": "2023-01-12T14:37:10.477129Z",
     "start_time": "2023-01-12T14:37:10.439Z"
    }
   },
   "outputs": [
    {
     "data": {
      "text/html": [
       "0.200759332719275"
      ],
      "text/latex": [
       "0.200759332719275"
      ],
      "text/markdown": [
       "0.200759332719275"
      ],
      "text/plain": [
       "[1] 0.2007593"
      ]
     },
     "metadata": {},
     "output_type": "display_data"
    }
   ],
   "source": [
    "c1$coefficients[2,1]/(1-c1$coefficients[3,1])"
   ]
  },
  {
   "cell_type": "code",
   "execution_count": null,
   "id": "3048108e",
   "metadata": {},
   "outputs": [],
   "source": [
    "c1$coefficients"
   ]
  },
  {
   "cell_type": "code",
   "execution_count": null,
   "id": "18aa9143",
   "metadata": {
    "ExecuteTime": {
     "end_time": "2023-01-12T13:05:07.015731Z",
     "start_time": "2023-01-12T13:05:07.002Z"
    }
   },
   "outputs": [],
   "source": [
    "c1 = ts(data['COSM'], frequency = 4, start = c(1959))"
   ]
  },
  {
   "cell_type": "code",
   "execution_count": null,
   "id": "51b897f5",
   "metadata": {
    "ExecuteTime": {
     "end_time": "2023-01-12T08:30:24.028441Z",
     "start_time": "2023-01-12T08:30:24.003Z"
    }
   },
   "outputs": [],
   "source": [
    "summary(dynlm(c1~d1+L(c1), data = data))"
   ]
  }
 ],
 "metadata": {
  "hide_input": false,
  "kernelspec": {
   "display_name": "R 4.2",
   "language": "R",
   "name": "ir42"
  },
  "language_info": {
   "codemirror_mode": "r",
   "file_extension": ".r",
   "mimetype": "text/x-r-source",
   "name": "R",
   "pygments_lexer": "r",
   "version": "4.2.1"
  },
  "latex_envs": {
   "LaTeX_envs_menu_present": true,
   "autoclose": true,
   "autocomplete": true,
   "bibliofile": "biblio.bib",
   "cite_by": "apalike",
   "current_citInitial": 1,
   "eqLabelWithNumbers": true,
   "eqNumInitial": 1,
   "hotkeys": {
    "equation": "Ctrl-E",
    "itemize": "Ctrl-I"
   },
   "labels_anchors": false,
   "latex_user_defs": false,
   "report_style_numbering": false,
   "user_envs_cfg": false
  },
  "toc": {
   "base_numbering": 1,
   "nav_menu": {},
   "number_sections": true,
   "sideBar": true,
   "skip_h1_title": false,
   "title_cell": "Table of Contents",
   "title_sidebar": "Contents",
   "toc_cell": false,
   "toc_position": {},
   "toc_section_display": true,
   "toc_window_display": false
  },
  "varInspector": {
   "cols": {
    "lenName": 16,
    "lenType": 16,
    "lenVar": 40
   },
   "kernels_config": {
    "python": {
     "delete_cmd_postfix": "",
     "delete_cmd_prefix": "del ",
     "library": "var_list.py",
     "varRefreshCmd": "print(var_dic_list())"
    },
    "r": {
     "delete_cmd_postfix": ") ",
     "delete_cmd_prefix": "rm(",
     "library": "var_list.r",
     "varRefreshCmd": "cat(var_dic_list()) "
    }
   },
   "types_to_exclude": [
    "module",
    "function",
    "builtin_function_or_method",
    "instance",
    "_Feature"
   ],
   "window_display": false
  }
 },
 "nbformat": 4,
 "nbformat_minor": 5
}
