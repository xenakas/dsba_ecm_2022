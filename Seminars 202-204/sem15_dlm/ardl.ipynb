{
 "cells": [
  {
   "cell_type": "code",
   "execution_count": null,
   "id": "4e322971",
   "metadata": {
    "ExecuteTime": {
     "end_time": "2023-01-19T13:02:46.044449Z",
     "start_time": "2023-01-19T13:02:45.735Z"
    }
   },
   "outputs": [],
   "source": [
    "library(hexView)\n",
    "\n",
    "data <- readEViews('EXPEND.WF1')"
   ]
  },
  {
   "cell_type": "code",
   "execution_count": null,
   "id": "0998338b",
   "metadata": {
    "ExecuteTime": {
     "end_time": "2023-01-19T11:08:44.641177Z",
     "start_time": "2023-01-19T11:08:44.607Z"
    }
   },
   "outputs": [],
   "source": [
    "# data"
   ]
  },
  {
   "cell_type": "code",
   "execution_count": null,
   "id": "c854c675",
   "metadata": {
    "ExecuteTime": {
     "end_time": "2023-01-19T13:02:52.344181Z",
     "start_time": "2023-01-19T13:02:52.262Z"
    }
   },
   "outputs": [],
   "source": [
    "summary(lm(CLOT~DPI, data=data))"
   ]
  },
  {
   "cell_type": "code",
   "execution_count": null,
   "id": "064893c7",
   "metadata": {
    "ExecuteTime": {
     "end_time": "2023-01-19T13:03:20.481038Z",
     "start_time": "2023-01-19T13:03:20.423Z"
    }
   },
   "outputs": [],
   "source": [
    "c1 <- ts(data['CLOT'], frequency = 4, start=c(1990,1))\n",
    "h1 <- ts(data['HOUS'], frequency = 4, start=c(1990,1))\n",
    "d1 <- ts(data['DPI'], frequency = 4, start=c(1990,1))"
   ]
  },
  {
   "cell_type": "code",
   "execution_count": null,
   "id": "6241a93f",
   "metadata": {
    "ExecuteTime": {
     "end_time": "2023-01-19T13:03:25.450095Z",
     "start_time": "2023-01-19T13:03:25.113Z"
    }
   },
   "outputs": [],
   "source": [
    "library(\"dynlm\")"
   ]
  },
  {
   "cell_type": "code",
   "execution_count": null,
   "id": "3c0f0fd5",
   "metadata": {
    "ExecuteTime": {
     "end_time": "2023-01-19T13:03:27.743373Z",
     "start_time": "2023-01-19T13:03:27.603Z"
    }
   },
   "outputs": [],
   "source": [
    "summary(dynlm(c1~d1+L(c1,1))) #ARDL(1,0)"
   ]
  },
  {
   "cell_type": "code",
   "execution_count": null,
   "id": "32d5c65e",
   "metadata": {
    "ExecuteTime": {
     "end_time": "2023-01-19T11:15:09.896003Z",
     "start_time": "2023-01-19T11:15:09.814Z"
    }
   },
   "outputs": [],
   "source": [
    "summary(dynlm(h1~d1+L(h1,1)))"
   ]
  },
  {
   "cell_type": "code",
   "execution_count": null,
   "id": "7963625c",
   "metadata": {},
   "outputs": [],
   "source": []
  }
 ],
 "metadata": {
  "hide_input": false,
  "kernelspec": {
   "display_name": "R 4.2",
   "language": "R",
   "name": "ir42"
  },
  "language_info": {
   "codemirror_mode": "r",
   "file_extension": ".r",
   "mimetype": "text/x-r-source",
   "name": "R",
   "pygments_lexer": "r",
   "version": "4.2.1"
  },
  "latex_envs": {
   "LaTeX_envs_menu_present": true,
   "autoclose": true,
   "autocomplete": true,
   "bibliofile": "biblio.bib",
   "cite_by": "apalike",
   "current_citInitial": 1,
   "eqLabelWithNumbers": true,
   "eqNumInitial": 1,
   "hotkeys": {
    "equation": "Ctrl-E",
    "itemize": "Ctrl-I"
   },
   "labels_anchors": false,
   "latex_user_defs": false,
   "report_style_numbering": false,
   "user_envs_cfg": false
  },
  "toc": {
   "base_numbering": 1,
   "nav_menu": {},
   "number_sections": true,
   "sideBar": true,
   "skip_h1_title": false,
   "title_cell": "Table of Contents",
   "title_sidebar": "Contents",
   "toc_cell": false,
   "toc_position": {},
   "toc_section_display": true,
   "toc_window_display": false
  },
  "varInspector": {
   "cols": {
    "lenName": 16,
    "lenType": 16,
    "lenVar": 40
   },
   "kernels_config": {
    "python": {
     "delete_cmd_postfix": "",
     "delete_cmd_prefix": "del ",
     "library": "var_list.py",
     "varRefreshCmd": "print(var_dic_list())"
    },
    "r": {
     "delete_cmd_postfix": ") ",
     "delete_cmd_prefix": "rm(",
     "library": "var_list.r",
     "varRefreshCmd": "cat(var_dic_list()) "
    }
   },
   "types_to_exclude": [
    "module",
    "function",
    "builtin_function_or_method",
    "instance",
    "_Feature"
   ],
   "window_display": false
  }
 },
 "nbformat": 4,
 "nbformat_minor": 5
}
