{
 "cells": [
  {
   "cell_type": "code",
   "execution_count": 3,
   "id": "1e9f26ed",
   "metadata": {
    "ExecuteTime": {
     "end_time": "2023-02-22T13:56:42.238870Z",
     "start_time": "2023-02-22T13:56:42.214Z"
    }
   },
   "outputs": [],
   "source": [
    "library(hexView)"
   ]
  },
  {
   "cell_type": "code",
   "execution_count": 9,
   "id": "e738534b",
   "metadata": {
    "ExecuteTime": {
     "end_time": "2023-02-22T13:59:44.016817Z",
     "start_time": "2023-02-22T13:59:43.987Z"
    }
   },
   "outputs": [],
   "source": [
    "c <- list.files()"
   ]
  },
  {
   "cell_type": "code",
   "execution_count": 18,
   "id": "b79a1948",
   "metadata": {
    "ExecuteTime": {
     "end_time": "2023-02-22T14:03:51.073591Z",
     "start_time": "2023-02-22T14:03:50.816Z"
    }
   },
   "outputs": [
    {
     "name": "stderr",
     "output_type": "stream",
     "text": [
      "Warning message in readEViews(i):\n",
      "“Skipping boilerplate variable\n",
      "”\n",
      "Warning message in readEViews(i):\n",
      "“Skipping boilerplate variable\n",
      "”\n",
      "Warning message in readEViews(i):\n",
      "“Skipping boilerplate variable\n",
      "”\n",
      "Warning message in readEViews(i):\n",
      "“Skipping boilerplate variable\n",
      "”\n",
      "Warning message in readEViews(i):\n",
      "“Skipping boilerplate variable\n",
      "”\n",
      "Warning message in readEViews(i):\n",
      "“Skipping boilerplate variable\n",
      "”\n",
      "Warning message in readEViews(i):\n",
      "“Skipping boilerplate variable\n",
      "”\n",
      "Warning message in readEViews(i):\n",
      "“Skipping boilerplate variable\n",
      "”\n",
      "Warning message in readEViews(i):\n",
      "“Skipping boilerplate variable\n",
      "”\n",
      "Warning message in readEViews(i):\n",
      "“Skipping boilerplate variable\n",
      "”\n",
      "Warning message in readEViews(i):\n",
      "“Skipping boilerplate variable\n",
      "”\n",
      "Warning message in readEViews(i):\n",
      "“Skipping boilerplate variable\n",
      "”\n",
      "Warning message in readEViews(i):\n",
      "“Skipping boilerplate variable\n",
      "”\n",
      "Warning message in readEViews(i):\n",
      "“Skipping boilerplate variable\n",
      "”\n",
      "Warning message in readEViews(i):\n",
      "“Skipping boilerplate variable\n",
      "”\n",
      "Warning message in readEViews(i):\n",
      "“Skipping boilerplate variable\n",
      "”\n",
      "Warning message in readEViews(i):\n",
      "“Skipping boilerplate variable\n",
      "”\n",
      "Warning message in readEViews(i):\n",
      "“Skipping boilerplate variable\n",
      "”\n",
      "Warning message in readEViews(i):\n",
      "“Skipping boilerplate variable\n",
      "”\n",
      "Warning message in readEViews(i):\n",
      "“Skipping boilerplate variable\n",
      "”\n"
     ]
    }
   ],
   "source": [
    "for (i in c[3:12]){ \n",
    "    data <- readEViews(i)\n",
    "    write.csv(data, paste(i,\".csv\", sep = ''))\n",
    "}"
   ]
  }
 ],
 "metadata": {
  "hide_input": false,
  "kernelspec": {
   "display_name": "R 4.2",
   "language": "R",
   "name": "ir42"
  },
  "language_info": {
   "codemirror_mode": "r",
   "file_extension": ".r",
   "mimetype": "text/x-r-source",
   "name": "R",
   "pygments_lexer": "r",
   "version": "4.2.1"
  },
  "latex_envs": {
   "LaTeX_envs_menu_present": true,
   "autoclose": true,
   "autocomplete": true,
   "bibliofile": "biblio.bib",
   "cite_by": "apalike",
   "current_citInitial": 1,
   "eqLabelWithNumbers": true,
   "eqNumInitial": 1,
   "hotkeys": {
    "equation": "Ctrl-E",
    "itemize": "Ctrl-I"
   },
   "labels_anchors": false,
   "latex_user_defs": false,
   "report_style_numbering": false,
   "user_envs_cfg": false
  },
  "toc": {
   "base_numbering": 1,
   "nav_menu": {},
   "number_sections": true,
   "sideBar": true,
   "skip_h1_title": false,
   "title_cell": "Table of Contents",
   "title_sidebar": "Contents",
   "toc_cell": false,
   "toc_position": {},
   "toc_section_display": true,
   "toc_window_display": false
  },
  "varInspector": {
   "cols": {
    "lenName": 16,
    "lenType": 16,
    "lenVar": 40
   },
   "kernels_config": {
    "python": {
     "delete_cmd_postfix": "",
     "delete_cmd_prefix": "del ",
     "library": "var_list.py",
     "varRefreshCmd": "print(var_dic_list())"
    },
    "r": {
     "delete_cmd_postfix": ") ",
     "delete_cmd_prefix": "rm(",
     "library": "var_list.r",
     "varRefreshCmd": "cat(var_dic_list()) "
    }
   },
   "types_to_exclude": [
    "module",
    "function",
    "builtin_function_or_method",
    "instance",
    "_Feature"
   ],
   "window_display": false
  }
 },
 "nbformat": 4,
 "nbformat_minor": 5
}
