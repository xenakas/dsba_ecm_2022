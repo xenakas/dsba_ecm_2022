{
 "cells": [
  {
   "cell_type": "code",
   "execution_count": 1,
   "id": "1e9f26ed",
   "metadata": {
    "ExecuteTime": {
     "end_time": "2023-03-10T19:48:29.630899Z",
     "start_time": "2023-03-10T19:48:29.587Z"
    }
   },
   "outputs": [],
   "source": [
    "library(hexView)"
   ]
  },
  {
   "cell_type": "code",
   "execution_count": 2,
   "id": "e738534b",
   "metadata": {
    "ExecuteTime": {
     "end_time": "2023-03-10T19:48:30.436482Z",
     "start_time": "2023-03-10T19:48:30.407Z"
    }
   },
   "outputs": [],
   "source": [
    "c <- list.files()"
   ]
  },
  {
   "cell_type": "code",
   "execution_count": 21,
   "id": "f745b145",
   "metadata": {
    "ExecuteTime": {
     "end_time": "2023-03-10T19:53:57.948735Z",
     "start_time": "2023-03-10T19:53:57.915Z"
    }
   },
   "outputs": [
    {
     "data": {
      "text/html": [
       "<style>\n",
       ".list-inline {list-style: none; margin:0; padding: 0}\n",
       ".list-inline>li {display: inline-block}\n",
       ".list-inline>li:not(:last-child)::after {content: \"\\00b7\"; padding: 0 .5ex}\n",
       "</style>\n",
       "<ol class=list-inline><li>'ha09_data01.wf1'</li><li>'ha09_data02.wf1'</li><li>'ha09_data03.wf1'</li><li>'ha09_data04.wf1'</li><li>'ha09_data05.wf1'</li><li>'ha09_data06.wf1'</li><li>'ha09_data07.wf1'</li><li>'ha09_data08.wf1'</li><li>'ha09_data09.wf1'</li><li>'ha09_data10.wf1'</li></ol>\n"
      ],
      "text/latex": [
       "\\begin{enumerate*}\n",
       "\\item 'ha09\\_data01.wf1'\n",
       "\\item 'ha09\\_data02.wf1'\n",
       "\\item 'ha09\\_data03.wf1'\n",
       "\\item 'ha09\\_data04.wf1'\n",
       "\\item 'ha09\\_data05.wf1'\n",
       "\\item 'ha09\\_data06.wf1'\n",
       "\\item 'ha09\\_data07.wf1'\n",
       "\\item 'ha09\\_data08.wf1'\n",
       "\\item 'ha09\\_data09.wf1'\n",
       "\\item 'ha09\\_data10.wf1'\n",
       "\\end{enumerate*}\n"
      ],
      "text/markdown": [
       "1. 'ha09_data01.wf1'\n",
       "2. 'ha09_data02.wf1'\n",
       "3. 'ha09_data03.wf1'\n",
       "4. 'ha09_data04.wf1'\n",
       "5. 'ha09_data05.wf1'\n",
       "6. 'ha09_data06.wf1'\n",
       "7. 'ha09_data07.wf1'\n",
       "8. 'ha09_data08.wf1'\n",
       "9. 'ha09_data09.wf1'\n",
       "10. 'ha09_data10.wf1'\n",
       "\n",
       "\n"
      ],
      "text/plain": [
       " [1] \"ha09_data01.wf1\" \"ha09_data02.wf1\" \"ha09_data03.wf1\" \"ha09_data04.wf1\"\n",
       " [5] \"ha09_data05.wf1\" \"ha09_data06.wf1\" \"ha09_data07.wf1\" \"ha09_data08.wf1\"\n",
       " [9] \"ha09_data09.wf1\" \"ha09_data10.wf1\""
      ]
     },
     "metadata": {},
     "output_type": "display_data"
    }
   ],
   "source": [
    "c[3:12]"
   ]
  },
  {
   "cell_type": "code",
   "execution_count": 20,
   "id": "cfd8eacc",
   "metadata": {
    "ExecuteTime": {
     "end_time": "2023-03-10T19:53:26.984188Z",
     "start_time": "2023-03-10T19:53:26.972Z"
    }
   },
   "outputs": [],
   "source": [
    "# data"
   ]
  },
  {
   "cell_type": "code",
   "execution_count": 22,
   "id": "b79a1948",
   "metadata": {
    "ExecuteTime": {
     "end_time": "2023-03-10T19:54:02.137462Z",
     "start_time": "2023-03-10T19:54:01.989Z"
    }
   },
   "outputs": [
    {
     "name": "stderr",
     "output_type": "stream",
     "text": [
      "Warning message in readEViews(i, time.stamp = FALSE):\n",
      "“Skipping boilerplate variable\n",
      "”\n",
      "Warning message in readEViews(i, time.stamp = FALSE):\n",
      "“Skipping boilerplate variable\n",
      "”\n",
      "Warning message in readEViews(i, time.stamp = FALSE):\n",
      "“Skipping boilerplate variable\n",
      "”\n",
      "Warning message in readEViews(i, time.stamp = FALSE):\n",
      "“Skipping boilerplate variable\n",
      "”\n",
      "Warning message in readEViews(i, time.stamp = FALSE):\n",
      "“Skipping boilerplate variable\n",
      "”\n",
      "Warning message in readEViews(i, time.stamp = FALSE):\n",
      "“Skipping boilerplate variable\n",
      "”\n",
      "Warning message in readEViews(i, time.stamp = FALSE):\n",
      "“Skipping boilerplate variable\n",
      "”\n",
      "Warning message in readEViews(i, time.stamp = FALSE):\n",
      "“Skipping boilerplate variable\n",
      "”\n",
      "Warning message in readEViews(i, time.stamp = FALSE):\n",
      "“Skipping boilerplate variable\n",
      "”\n",
      "Warning message in readEViews(i, time.stamp = FALSE):\n",
      "“Skipping boilerplate variable\n",
      "”\n",
      "Warning message in readEViews(i, time.stamp = FALSE):\n",
      "“Skipping boilerplate variable\n",
      "”\n",
      "Warning message in readEViews(i, time.stamp = FALSE):\n",
      "“Skipping boilerplate variable\n",
      "”\n",
      "Warning message in readEViews(i, time.stamp = FALSE):\n",
      "“Skipping boilerplate variable\n",
      "”\n",
      "Warning message in readEViews(i, time.stamp = FALSE):\n",
      "“Skipping boilerplate variable\n",
      "”\n",
      "Warning message in readEViews(i, time.stamp = FALSE):\n",
      "“Skipping boilerplate variable\n",
      "”\n",
      "Warning message in readEViews(i, time.stamp = FALSE):\n",
      "“Skipping boilerplate variable\n",
      "”\n",
      "Warning message in readEViews(i, time.stamp = FALSE):\n",
      "“Skipping boilerplate variable\n",
      "”\n",
      "Warning message in readEViews(i, time.stamp = FALSE):\n",
      "“Skipping boilerplate variable\n",
      "”\n",
      "Warning message in readEViews(i, time.stamp = FALSE):\n",
      "“Skipping boilerplate variable\n",
      "”\n",
      "Warning message in readEViews(i, time.stamp = FALSE):\n",
      "“Skipping boilerplate variable\n",
      "”\n"
     ]
    }
   ],
   "source": [
    "for (i in c[3:12]){ \n",
    "#     data <- readEViews(i)\n",
    "    data <- readEViews(i, time.stamp=FALSE)\n",
    "    write.csv(data, paste(i,\".csv\", sep = ''))\n",
    "}"
   ]
  }
 ],
 "metadata": {
  "hide_input": false,
  "kernelspec": {
   "display_name": "R 4.2",
   "language": "R",
   "name": "ir42"
  },
  "language_info": {
   "codemirror_mode": "r",
   "file_extension": ".r",
   "mimetype": "text/x-r-source",
   "name": "R",
   "pygments_lexer": "r",
   "version": "4.2.1"
  },
  "latex_envs": {
   "LaTeX_envs_menu_present": true,
   "autoclose": true,
   "autocomplete": true,
   "bibliofile": "biblio.bib",
   "cite_by": "apalike",
   "current_citInitial": 1,
   "eqLabelWithNumbers": true,
   "eqNumInitial": 1,
   "hotkeys": {
    "equation": "Ctrl-E",
    "itemize": "Ctrl-I"
   },
   "labels_anchors": false,
   "latex_user_defs": false,
   "report_style_numbering": false,
   "user_envs_cfg": false
  },
  "toc": {
   "base_numbering": 1,
   "nav_menu": {},
   "number_sections": true,
   "sideBar": true,
   "skip_h1_title": false,
   "title_cell": "Table of Contents",
   "title_sidebar": "Contents",
   "toc_cell": false,
   "toc_position": {},
   "toc_section_display": true,
   "toc_window_display": false
  },
  "varInspector": {
   "cols": {
    "lenName": 16,
    "lenType": 16,
    "lenVar": 40
   },
   "kernels_config": {
    "python": {
     "delete_cmd_postfix": "",
     "delete_cmd_prefix": "del ",
     "library": "var_list.py",
     "varRefreshCmd": "print(var_dic_list())"
    },
    "r": {
     "delete_cmd_postfix": ") ",
     "delete_cmd_prefix": "rm(",
     "library": "var_list.r",
     "varRefreshCmd": "cat(var_dic_list()) "
    }
   },
   "types_to_exclude": [
    "module",
    "function",
    "builtin_function_or_method",
    "instance",
    "_Feature"
   ],
   "window_display": false
  }
 },
 "nbformat": 4,
 "nbformat_minor": 5
}
