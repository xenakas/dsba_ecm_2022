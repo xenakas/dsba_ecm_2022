{
 "cells": [
  {
   "cell_type": "code",
   "execution_count": 1,
   "id": "1e9f26ed",
   "metadata": {
    "ExecuteTime": {
     "end_time": "2023-03-10T19:48:29.630899Z",
     "start_time": "2023-03-10T19:48:29.587Z"
    }
   },
   "outputs": [],
   "source": [
    "library(hexView)"
   ]
  },
  {
   "cell_type": "code",
   "execution_count": 2,
   "id": "e738534b",
   "metadata": {
    "ExecuteTime": {
     "end_time": "2023-03-10T19:48:30.436482Z",
     "start_time": "2023-03-10T19:48:30.407Z"
    }
   },
   "outputs": [],
   "source": [
    "c <- list.files()"
   ]
  },
  {
   "cell_type": "code",
   "execution_count": 7,
   "id": "7f4a23f2",
   "metadata": {
    "ExecuteTime": {
     "end_time": "2023-03-10T19:50:21.602535Z",
     "start_time": "2023-03-10T19:50:21.568Z"
    }
   },
   "outputs": [
    {
     "data": {
      "text/html": [
       "'ha09_data01.wf1'"
      ],
      "text/latex": [
       "'ha09\\_data01.wf1'"
      ],
      "text/markdown": [
       "'ha09_data01.wf1'"
      ],
      "text/plain": [
       "[1] \"ha09_data01.wf1\""
      ]
     },
     "metadata": {},
     "output_type": "display_data"
    }
   ],
   "source": [
    "c[3]"
   ]
  },
  {
   "cell_type": "code",
   "execution_count": 6,
   "id": "b79a1948",
   "metadata": {
    "ExecuteTime": {
     "end_time": "2023-03-10T19:49:59.967263Z",
     "start_time": "2023-03-10T19:49:59.895Z"
    }
   },
   "outputs": [
    {
     "name": "stderr",
     "output_type": "stream",
     "text": [
      "Warning message in readEViews(i):\n",
      "“Skipping boilerplate variable\n",
      "”\n",
      "Warning message in readEViews(i):\n",
      "“Skipping boilerplate variable\n",
      "”\n"
     ]
    },
    {
     "ename": "ERROR",
     "evalue": "Error in seq.default(start.date, by = increment, length.out = numObs): 'from' must be of length 1\n",
     "output_type": "error",
     "traceback": [
      "Error in seq.default(start.date, by = increment, length.out = numObs): 'from' must be of length 1\nTraceback:\n",
      "1. readEViews(i)",
      "2. seq(start.date, by = increment, length.out = numObs)",
      "3. seq.default(start.date, by = increment, length.out = numObs)",
      "4. stop(\"'from' must be of length 1\")"
     ]
    }
   ],
   "source": [
    "for (i in c[3:12]){ \n",
    "    data <- readEViews(i)\n",
    "    write.csv(data, paste(i,\".csv\", sep = ''))\n",
    "}"
   ]
  }
 ],
 "metadata": {
  "hide_input": false,
  "kernelspec": {
   "display_name": "R 4.2",
   "language": "R",
   "name": "ir42"
  },
  "language_info": {
   "codemirror_mode": "r",
   "file_extension": ".r",
   "mimetype": "text/x-r-source",
   "name": "R",
   "pygments_lexer": "r",
   "version": "4.2.1"
  },
  "latex_envs": {
   "LaTeX_envs_menu_present": true,
   "autoclose": true,
   "autocomplete": true,
   "bibliofile": "biblio.bib",
   "cite_by": "apalike",
   "current_citInitial": 1,
   "eqLabelWithNumbers": true,
   "eqNumInitial": 1,
   "hotkeys": {
    "equation": "Ctrl-E",
    "itemize": "Ctrl-I"
   },
   "labels_anchors": false,
   "latex_user_defs": false,
   "report_style_numbering": false,
   "user_envs_cfg": false
  },
  "toc": {
   "base_numbering": 1,
   "nav_menu": {},
   "number_sections": true,
   "sideBar": true,
   "skip_h1_title": false,
   "title_cell": "Table of Contents",
   "title_sidebar": "Contents",
   "toc_cell": false,
   "toc_position": {},
   "toc_section_display": true,
   "toc_window_display": false
  },
  "varInspector": {
   "cols": {
    "lenName": 16,
    "lenType": 16,
    "lenVar": 40
   },
   "kernels_config": {
    "python": {
     "delete_cmd_postfix": "",
     "delete_cmd_prefix": "del ",
     "library": "var_list.py",
     "varRefreshCmd": "print(var_dic_list())"
    },
    "r": {
     "delete_cmd_postfix": ") ",
     "delete_cmd_prefix": "rm(",
     "library": "var_list.r",
     "varRefreshCmd": "cat(var_dic_list()) "
    }
   },
   "types_to_exclude": [
    "module",
    "function",
    "builtin_function_or_method",
    "instance",
    "_Feature"
   ],
   "window_display": false
  }
 },
 "nbformat": 4,
 "nbformat_minor": 5
}
